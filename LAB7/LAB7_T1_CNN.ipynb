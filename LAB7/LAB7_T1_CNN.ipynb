{
  "nbformat": 4,
  "nbformat_minor": 0,
  "metadata": {
    "kernelspec": {
      "display_name": "Python 3",
      "language": "python",
      "name": "python3"
    },
    "language_info": {
      "codemirror_mode": {
        "name": "ipython",
        "version": 3
      },
      "file_extension": ".py",
      "mimetype": "text/x-python",
      "name": "python",
      "nbconvert_exporter": "python",
      "pygments_lexer": "ipython3",
      "version": "3.6.5"
    },
    "colab": {
      "name": "LAB7_T1_CNN.ipynb",
      "provenance": [],
      "include_colab_link": true
    }
  },
  "cells": [
    {
      "cell_type": "markdown",
      "metadata": {
        "id": "view-in-github",
        "colab_type": "text"
      },
      "source": [
        "<a href=\"https://colab.research.google.com/github/CesarRoldan99/CEE88_Cesar/blob/main/LAB7/LAB7_T1_CNN.ipynb\" target=\"_parent\"><img src=\"https://colab.research.google.com/assets/colab-badge.svg\" alt=\"Open In Colab\"/></a>"
      ]
    },
    {
      "cell_type": "markdown",
      "metadata": {
        "id": "vwRGEQbzGpYQ"
      },
      "source": [
        "# First CNN model for MNIST Dataset\n",
        "\n",
        "* MNIST Dataset is ''Hello World'' of Image Recognition\n",
        "\n",
        "* [Dataset HomePage](http://yann.lecun.com/exdb/mnist/)\n",
        "\n",
        "* History of MNIST Dataset [Watch here](https://www.youtube.com/watch?v=oKzNUGz21JM)\n",
        "\n",
        "\n",
        "---\n",
        "The MNIST database of handwritten digits, available from this page, has a training set of 60,000 examples, and a \n",
        "test set of 10,000 examples. It is a subset of a larger set available from NIST. The digits have been size-normalized and centered in a fixed-size image.\n",
        "\n",
        "![Kitten](https://camo.githubusercontent.com/01c057a753e92a9bc70b8c45d62b295431851c09cffadf53106fc0aea7e2843f/687474703a2f2f692e7974696d672e636f6d2f76692f3051493378675875422d512f687164656661756c742e6a7067)\n"
      ]
    },
    {
      "cell_type": "markdown",
      "metadata": {
        "id": "PhmJOHCpJD_w"
      },
      "source": [
        "# Let's start building our first CNN Model"
      ]
    },
    {
      "cell_type": "code",
      "metadata": {
        "id": "lSyHCSV7jymI"
      },
      "source": [
        "from keras import layers\n",
        "from keras import models"
      ],
      "execution_count": 22,
      "outputs": []
    },
    {
      "cell_type": "markdown",
      "metadata": {
        "id": "oWNzCYUUjymN"
      },
      "source": [
        "Importantly, a convnet takes as input tensors of shape (image_height, image_width,\n",
        "image_channels) (not including the batch dimension). In this case, we’ll configure\n",
        "the convnet to process inputs of size (28, 28, 1), which is the format of MNIST\n",
        "images. We’ll do this by passing the argument input_shape=(28, 28, 1) to the first\n",
        "layer."
      ]
    },
    {
      "cell_type": "markdown",
      "metadata": {
        "id": "dM4JLEpwjymN"
      },
      "source": [
        "#### Instantiating a small convnet"
      ]
    },
    {
      "cell_type": "code",
      "metadata": {
        "id": "p-OnpExGjymO",
        "colab": {
          "base_uri": "https://localhost:8080/"
        },
        "outputId": "6b8548d4-0711-43ce-8c19-0fbc9f60bd64"
      },
      "source": [
        "model = models.Sequential()\n",
        "model.add(layers.Conv2D(32, (3, 3), activation='relu', input_shape=(28, 28, 1)))\n",
        "model.add(layers.MaxPooling2D((2, 2)))\n",
        "model.add(layers.Conv2D(64, (3, 3), activation='relu'))\n",
        "model.add(layers.MaxPooling2D((2, 2)))\n",
        "model.add(layers.Conv2D(64, (3, 3), activation='relu'))\n",
        "model.summary()"
      ],
      "execution_count": 56,
      "outputs": [
        {
          "output_type": "stream",
          "text": [
            "Model: \"sequential_6\"\n",
            "_________________________________________________________________\n",
            "Layer (type)                 Output Shape              Param #   \n",
            "=================================================================\n",
            "conv2d_18 (Conv2D)           (None, 26, 26, 32)        320       \n",
            "_________________________________________________________________\n",
            "max_pooling2d_12 (MaxPooling (None, 13, 13, 32)        0         \n",
            "_________________________________________________________________\n",
            "conv2d_19 (Conv2D)           (None, 11, 11, 64)        18496     \n",
            "_________________________________________________________________\n",
            "max_pooling2d_13 (MaxPooling (None, 5, 5, 64)          0         \n",
            "_________________________________________________________________\n",
            "conv2d_20 (Conv2D)           (None, 3, 3, 64)          36928     \n",
            "=================================================================\n",
            "Total params: 55,744\n",
            "Trainable params: 55,744\n",
            "Non-trainable params: 0\n",
            "_________________________________________________________________\n"
          ],
          "name": "stdout"
        }
      ]
    },
    {
      "cell_type": "markdown",
      "metadata": {
        "id": "7gcVG3xkjymR"
      },
      "source": [
        "#### Adding a classifier on top of the convnet"
      ]
    },
    {
      "cell_type": "code",
      "metadata": {
        "id": "C2DfhDJYjymR",
        "colab": {
          "base_uri": "https://localhost:8080/"
        },
        "outputId": "349460d5-47cc-417f-f993-b2eb87cfcfc5"
      },
      "source": [
        "model.add(layers.Flatten())\n",
        "model.add(layers.Dense(64, activation='relu'))\n",
        "model.add(layers.Dense(10, activation='softmax'))\n",
        "model.summary()"
      ],
      "execution_count": 24,
      "outputs": [
        {
          "output_type": "stream",
          "text": [
            "Model: \"sequential_2\"\n",
            "_________________________________________________________________\n",
            "Layer (type)                 Output Shape              Param #   \n",
            "=================================================================\n",
            "conv2d_6 (Conv2D)            (None, 26, 26, 32)        320       \n",
            "_________________________________________________________________\n",
            "max_pooling2d_4 (MaxPooling2 (None, 13, 13, 32)        0         \n",
            "_________________________________________________________________\n",
            "conv2d_7 (Conv2D)            (None, 11, 11, 64)        18496     \n",
            "_________________________________________________________________\n",
            "max_pooling2d_5 (MaxPooling2 (None, 5, 5, 64)          0         \n",
            "_________________________________________________________________\n",
            "conv2d_8 (Conv2D)            (None, 3, 3, 64)          36928     \n",
            "_________________________________________________________________\n",
            "flatten_2 (Flatten)          (None, 576)               0         \n",
            "_________________________________________________________________\n",
            "dense_4 (Dense)              (None, 64)                36928     \n",
            "_________________________________________________________________\n",
            "dense_5 (Dense)              (None, 10)                650       \n",
            "=================================================================\n",
            "Total params: 93,322\n",
            "Trainable params: 93,322\n",
            "Non-trainable params: 0\n",
            "_________________________________________________________________\n"
          ],
          "name": "stdout"
        }
      ]
    },
    {
      "cell_type": "markdown",
      "metadata": {
        "id": "NOKVF4nKjymU"
      },
      "source": [
        "### Training the convnet on MNIST images"
      ]
    },
    {
      "cell_type": "code",
      "metadata": {
        "id": "oIcgUbbUjymV"
      },
      "source": [
        "from keras.datasets import mnist\n",
        "from keras.utils import to_categorical"
      ],
      "execution_count": 25,
      "outputs": []
    },
    {
      "cell_type": "markdown",
      "metadata": {
        "id": "ZnJ2Pfs_jymX"
      },
      "source": [
        "#### Load Data"
      ]
    },
    {
      "cell_type": "code",
      "metadata": {
        "id": "JpHGHE9MjymY",
        "colab": {
          "base_uri": "https://localhost:8080/"
        },
        "outputId": "8636f882-746a-4be9-cf96-202b08ed4f9a"
      },
      "source": [
        "(train_images, train_labels), (test_images, test_labels) = mnist.load_data()\n",
        "train_images = train_images.reshape((60000, 28, 28, 1))\n",
        "train_images = train_images.astype('float32') / 255\n",
        "test_images = test_images.reshape((10000, 28, 28, 1))\n",
        "test_images = test_images.astype('float32') / 255\n",
        "train_labels = to_categorical(train_labels)\n",
        "test_labels = to_categorical(test_labels)"
      ],
      "execution_count": 3,
      "outputs": [
        {
          "output_type": "stream",
          "text": [
            "Downloading data from https://storage.googleapis.com/tensorflow/tf-keras-datasets/mnist.npz\n",
            "11493376/11490434 [==============================] - 0s 0us/step\n"
          ],
          "name": "stdout"
        }
      ]
    },
    {
      "cell_type": "markdown",
      "metadata": {
        "id": "4HoTLrfSjymd"
      },
      "source": [
        "#### compile and fit model "
      ]
    },
    {
      "cell_type": "code",
      "metadata": {
        "id": "i23FDtC9jyme",
        "colab": {
          "base_uri": "https://localhost:8080/"
        },
        "outputId": "0bb1a818-2e3e-40fa-f9c7-58aefd31bffe"
      },
      "source": [
        "model.compile(optimizer='rmsprop', \n",
        "              loss='categorical_crossentropy',\n",
        "              metrics=['accuracy'])\n",
        "history = model.fit(train_images, train_labels, epochs=5, batch_size=64, validation_split=0.2)"
      ],
      "execution_count": 27,
      "outputs": [
        {
          "output_type": "stream",
          "text": [
            "Epoch 1/5\n",
            "750/750 [==============================] - 43s 56ms/step - loss: 0.4447 - accuracy: 0.8589 - val_loss: 0.0922 - val_accuracy: 0.9707\n",
            "Epoch 2/5\n",
            "750/750 [==============================] - 42s 56ms/step - loss: 0.0601 - accuracy: 0.9810 - val_loss: 0.0505 - val_accuracy: 0.9845\n",
            "Epoch 3/5\n",
            "750/750 [==============================] - 43s 57ms/step - loss: 0.0386 - accuracy: 0.9883 - val_loss: 0.0487 - val_accuracy: 0.9860\n",
            "Epoch 4/5\n",
            "750/750 [==============================] - 42s 56ms/step - loss: 0.0286 - accuracy: 0.9916 - val_loss: 0.0497 - val_accuracy: 0.9868\n",
            "Epoch 5/5\n",
            "750/750 [==============================] - 41s 55ms/step - loss: 0.0201 - accuracy: 0.9936 - val_loss: 0.0420 - val_accuracy: 0.9895\n"
          ],
          "name": "stdout"
        }
      ]
    },
    {
      "cell_type": "markdown",
      "metadata": {
        "id": "9zU8iI5ojymg"
      },
      "source": [
        "#### evaluate model"
      ]
    },
    {
      "cell_type": "code",
      "metadata": {
        "id": "Z3VeaL1Njymh",
        "colab": {
          "base_uri": "https://localhost:8080/"
        },
        "outputId": "7e3bca0a-7204-463c-a3ee-94a523c2aef2"
      },
      "source": [
        "test_loss, test_acc = model.evaluate(test_images, test_labels)\n",
        "test_acc"
      ],
      "execution_count": 28,
      "outputs": [
        {
          "output_type": "stream",
          "text": [
            "313/313 [==============================] - 3s 10ms/step - loss: 0.0273 - accuracy: 0.9916\n"
          ],
          "name": "stdout"
        },
        {
          "output_type": "execute_result",
          "data": {
            "text/plain": [
              "0.991599977016449"
            ]
          },
          "metadata": {
            "tags": []
          },
          "execution_count": 28
        }
      ]
    },
    {
      "cell_type": "code",
      "metadata": {
        "id": "wXNZOY7Sjymj",
        "colab": {
          "base_uri": "https://localhost:8080/",
          "height": 545
        },
        "outputId": "fa86ae7d-5f46-407d-ad03-467a51147e12"
      },
      "source": [
        "import matplotlib.pyplot as plt\n",
        "\n",
        "acc = history.history['accuracy']\n",
        "val_acc = history.history['val_accuracy']\n",
        "loss = history.history['loss']\n",
        "val_loss = history.history['val_loss']\n",
        "\n",
        "epochs = range(1, len(acc) + 1)\n",
        "\n",
        "plt.plot(epochs, acc, 'bo', label='Training acc')\n",
        "plt.plot(epochs, val_acc, 'b', label='Validation acc')\n",
        "plt.title('Training and validation accuracy')\n",
        "plt.legend()\n",
        "\n",
        "plt.figure()\n",
        "\n",
        "plt.plot(epochs, loss, 'bo', label='Training loss')\n",
        "plt.plot(epochs, val_loss, 'b', label='Validation loss')\n",
        "plt.title('Training and validation loss')\n",
        "plt.legend()\n",
        "\n",
        "plt.show()"
      ],
      "execution_count": 31,
      "outputs": [
        {
          "output_type": "display_data",
          "data": {
            "image/png": "[encoded data removed]",
            "text/plain": [
              "<Figure size 432x288 with 1 Axes>"
            ]
          },
          "metadata": {
            "tags": [],
            "needs_background": "light"
          }
        },
        {
          "output_type": "display_data",
          "data": {
            "image/png": "[encoded data removed]",
            "text/plain": [
              "<Figure size 432x288 with 1 Axes>"
            ]
          },
          "metadata": {
            "tags": [],
            "needs_background": "light"
          }
        }
      ]
    },
    {
      "cell_type": "markdown",
      "metadata": {
        "id": "dsQMc0Iojyml"
      },
      "source": [
        "## Task 1\n",
        "\n",
        "Change the activation function and other parameters such as optimizer to see the effect on the network and it's performance. If possible create a grid search. "
      ]
    },
    {
      "cell_type": "code",
      "metadata": {
        "id": "owJ-29BrJXNa"
      },
      "source": [
        "# Libraries\r\n",
        "from keras import layers\r\n",
        "from keras import models\r\n",
        "from keras.datasets import mnist\r\n",
        "from keras.utils import to_categorical\r\n",
        "import matplotlib.pyplot as plt\r\n",
        "from sklearn.model_selection import GridSearchCV\r\n",
        "from keras.wrappers.scikit_learn import KerasClassifier\r\n",
        "import numpy as np\r\n"
      ],
      "execution_count": 5,
      "outputs": []
    },
    {
      "cell_type": "code",
      "metadata": {
        "id": "bPJHAD8ZruKj"
      },
      "source": [
        "# Model creation\r\n",
        "def TModel(act='relu',opt='rmsprop'):\r\n",
        "    model = models.Sequential()\r\n",
        "    model.add(layers.Conv2D(32, (3, 3), activation=act, input_shape=(28, 28, 1)))\r\n",
        "    model.add(layers.MaxPooling2D((2, 2)))\r\n",
        "    model.add(layers.Conv2D(64, (3, 3), activation=act))\r\n",
        "    model.add(layers.MaxPooling2D((2, 2)))\r\n",
        "    model.add(layers.Conv2D(64, (3, 3), activation=act))\r\n",
        "    model.add(layers.Flatten())\r\n",
        "    model.add(layers.Dense(64, activation=act))\r\n",
        "    model.add(layers.Dense(10, activation='softmax'))\r\n",
        "    model.compile(optimizer=opt, \r\n",
        "              loss='categorical_crossentropy',\r\n",
        "              metrics=['accuracy'])\r\n",
        "    return model\r\n"
      ],
      "execution_count": 6,
      "outputs": []
    },
    {
      "cell_type": "code",
      "metadata": {
        "id": "NC46Z543spVx"
      },
      "source": [
        "#KerasClassifier\r\n",
        "Model = KerasClassifier(build_fn=TModel, epochs=3, batch_size=10)"
      ],
      "execution_count": 7,
      "outputs": []
    },
    {
      "cell_type": "code",
      "metadata": {
        "id": "oroDRDjkmvhp"
      },
      "source": [
        "#Parameters for GridSearch\r\n",
        "param = {'act':('relu','sigmoid','selu'), 'opt':('rmsprop','Adam','SGD')}\r\n",
        "train_labels_Up = np.argmax(train_labels, axis=1)"
      ],
      "execution_count": 8,
      "outputs": []
    },
    {
      "cell_type": "code",
      "metadata": {
        "colab": {
          "base_uri": "https://localhost:8080/"
        },
        "id": "e-_EjRbDoNIV",
        "outputId": "c711bfe4-9a42-4268-eb8f-ced38711814b"
      },
      "source": [
        "#GridSearch\r\n",
        "grid =GridSearchCV(Model,param,scoring='accuracy')\r\n",
        "grid_results = grid.fit(train_images,train_labels_Up) "
      ],
      "execution_count": 9,
      "outputs": [
        {
          "output_type": "stream",
          "text": [
            "Epoch 1/3\n",
            "4800/4800 [==============================] - 55s 11ms/step - loss: 0.2896 - accuracy: 0.9061\n",
            "Epoch 2/3\n",
            "4800/4800 [==============================] - 52s 11ms/step - loss: 0.0537 - accuracy: 0.9843\n",
            "Epoch 3/3\n",
            "4800/4800 [==============================] - 52s 11ms/step - loss: 0.0417 - accuracy: 0.9882\n"
          ],
          "name": "stdout"
        },
        {
          "output_type": "stream",
          "text": [
            "/usr/local/lib/python3.7/dist-packages/tensorflow/python/keras/engine/sequential.py:450: UserWarning: `model.predict_classes()` is deprecated and will be removed after 2021-01-01. Please use instead:* `np.argmax(model.predict(x), axis=-1)`,   if your model does multi-class classification   (e.g. if it uses a `softmax` last-layer activation).* `(model.predict(x) > 0.5).astype(\"int32\")`,   if your model does binary classification   (e.g. if it uses a `sigmoid` last-layer activation).\n",
            "  warnings.warn('`model.predict_classes()` is deprecated and '\n"
          ],
          "name": "stderr"
        },
        {
          "output_type": "stream",
          "text": [
            "Epoch 1/3\n",
            "4800/4800 [==============================] - 54s 11ms/step - loss: 0.2782 - accuracy: 0.9087\n",
            "Epoch 2/3\n",
            "4800/4800 [==============================] - 53s 11ms/step - loss: 0.0517 - accuracy: 0.9850\n",
            "Epoch 3/3\n",
            "4800/4800 [==============================] - 54s 11ms/step - loss: 0.0436 - accuracy: 0.9887\n",
            "Epoch 1/3\n",
            "4800/4800 [==============================] - 59s 12ms/step - loss: 0.2838 - accuracy: 0.9097\n",
            "Epoch 2/3\n",
            "4800/4800 [==============================] - 53s 11ms/step - loss: 0.0514 - accuracy: 0.9851\n",
            "Epoch 3/3\n",
            "4800/4800 [==============================] - 53s 11ms/step - loss: 0.0385 - accuracy: 0.9894\n",
            "Epoch 1/3\n",
            "4800/4800 [==============================] - 55s 11ms/step - loss: 0.2670 - accuracy: 0.9143\n",
            "Epoch 2/3\n",
            "4800/4800 [==============================] - 54s 11ms/step - loss: 0.0529 - accuracy: 0.9860\n",
            "Epoch 3/3\n",
            "4800/4800 [==============================] - 53s 11ms/step - loss: 0.0362 - accuracy: 0.9905\n",
            "Epoch 1/3\n",
            "4800/4800 [==============================] - 54s 11ms/step - loss: 0.2736 - accuracy: 0.9122\n",
            "Epoch 2/3\n",
            "4800/4800 [==============================] - 53s 11ms/step - loss: 0.0498 - accuracy: 0.9862\n",
            "Epoch 3/3\n",
            "4800/4800 [==============================] - 53s 11ms/step - loss: 0.0431 - accuracy: 0.9891\n",
            "Epoch 1/3\n",
            "4800/4800 [==============================] - 54s 11ms/step - loss: 0.2816 - accuracy: 0.9089\n",
            "Epoch 2/3\n",
            "4800/4800 [==============================] - 53s 11ms/step - loss: 0.0495 - accuracy: 0.9848\n",
            "Epoch 3/3\n",
            "4800/4800 [==============================] - 53s 11ms/step - loss: 0.0334 - accuracy: 0.9888\n",
            "Epoch 1/3\n",
            "4800/4800 [==============================] - 53s 11ms/step - loss: 0.2821 - accuracy: 0.9066\n",
            "Epoch 2/3\n",
            "4800/4800 [==============================] - 52s 11ms/step - loss: 0.0523 - accuracy: 0.9842\n",
            "Epoch 3/3\n",
            "4800/4800 [==============================] - 52s 11ms/step - loss: 0.0329 - accuracy: 0.9900\n",
            "Epoch 1/3\n",
            "4800/4800 [==============================] - 54s 11ms/step - loss: 0.2761 - accuracy: 0.9114\n",
            "Epoch 2/3\n",
            "4800/4800 [==============================] - 54s 11ms/step - loss: 0.0499 - accuracy: 0.9841\n",
            "Epoch 3/3\n",
            "4800/4800 [==============================] - 53s 11ms/step - loss: 0.0314 - accuracy: 0.9899\n",
            "Epoch 1/3\n",
            "4800/4800 [==============================] - 55s 11ms/step - loss: 0.2858 - accuracy: 0.9070\n",
            "Epoch 2/3\n",
            "4800/4800 [==============================] - 54s 11ms/step - loss: 0.0476 - accuracy: 0.9844\n",
            "Epoch 3/3\n",
            "4800/4800 [==============================] - 54s 11ms/step - loss: 0.0307 - accuracy: 0.9903\n",
            "Epoch 1/3\n",
            "4800/4800 [==============================] - 55s 11ms/step - loss: 0.2825 - accuracy: 0.9105\n",
            "Epoch 2/3\n",
            "4800/4800 [==============================] - 55s 11ms/step - loss: 0.0504 - accuracy: 0.9847\n",
            "Epoch 3/3\n",
            "4800/4800 [==============================] - 54s 11ms/step - loss: 0.0327 - accuracy: 0.9897\n",
            "Epoch 1/3\n",
            "4800/4800 [==============================] - 54s 11ms/step - loss: 0.7372 - accuracy: 0.7800\n",
            "Epoch 2/3\n",
            "4800/4800 [==============================] - 52s 11ms/step - loss: 0.0932 - accuracy: 0.9703\n",
            "Epoch 3/3\n",
            "4800/4800 [==============================] - 52s 11ms/step - loss: 0.0649 - accuracy: 0.9795\n",
            "Epoch 1/3\n",
            "4800/4800 [==============================] - 52s 11ms/step - loss: 0.7616 - accuracy: 0.7562\n",
            "Epoch 2/3\n",
            "4800/4800 [==============================] - 52s 11ms/step - loss: 0.0983 - accuracy: 0.9699\n",
            "Epoch 3/3\n",
            "4800/4800 [==============================] - 53s 11ms/step - loss: 0.0644 - accuracy: 0.9794\n",
            "Epoch 1/3\n",
            "4800/4800 [==============================] - 53s 11ms/step - loss: 0.7377 - accuracy: 0.7750\n",
            "Epoch 2/3\n",
            "4800/4800 [==============================] - 53s 11ms/step - loss: 0.0952 - accuracy: 0.9705\n",
            "Epoch 3/3\n",
            "4800/4800 [==============================] - 53s 11ms/step - loss: 0.0622 - accuracy: 0.9802\n",
            "Epoch 1/3\n",
            "4800/4800 [==============================] - 53s 11ms/step - loss: 0.7398 - accuracy: 0.7757\n",
            "Epoch 2/3\n",
            "4800/4800 [==============================] - 51s 11ms/step - loss: 0.0911 - accuracy: 0.9714\n",
            "Epoch 3/3\n",
            "4800/4800 [==============================] - 52s 11ms/step - loss: 0.0616 - accuracy: 0.9808\n",
            "Epoch 1/3\n",
            "4800/4800 [==============================] - 52s 11ms/step - loss: 0.7299 - accuracy: 0.7666\n",
            "Epoch 2/3\n",
            "4800/4800 [==============================] - 52s 11ms/step - loss: 0.0952 - accuracy: 0.9705\n",
            "Epoch 3/3\n",
            "4800/4800 [==============================] - 52s 11ms/step - loss: 0.0631 - accuracy: 0.9805\n",
            "Epoch 1/3\n",
            "4800/4800 [==============================] - 54s 11ms/step - loss: 1.1972 - accuracy: 0.5743\n",
            "Epoch 2/3\n",
            "4800/4800 [==============================] - 53s 11ms/step - loss: 0.1053 - accuracy: 0.9665\n",
            "Epoch 3/3\n",
            "4800/4800 [==============================] - 53s 11ms/step - loss: 0.0804 - accuracy: 0.9758\n",
            "Epoch 1/3\n",
            "4800/4800 [==============================] - 53s 11ms/step - loss: 1.1812 - accuracy: 0.5794\n",
            "Epoch 2/3\n",
            "4800/4800 [==============================] - 53s 11ms/step - loss: 0.1118 - accuracy: 0.9644\n",
            "Epoch 3/3\n",
            "4800/4800 [==============================] - 53s 11ms/step - loss: 0.0817 - accuracy: 0.9754\n",
            "Epoch 1/3\n",
            "4800/4800 [==============================] - 53s 11ms/step - loss: 1.0644 - accuracy: 0.6239\n",
            "Epoch 2/3\n",
            "4800/4800 [==============================] - 53s 11ms/step - loss: 0.0999 - accuracy: 0.9689\n",
            "Epoch 3/3\n",
            "4800/4800 [==============================] - 52s 11ms/step - loss: 0.0731 - accuracy: 0.9776\n",
            "Epoch 1/3\n",
            "4800/4800 [==============================] - 53s 11ms/step - loss: 1.1166 - accuracy: 0.6052\n",
            "Epoch 2/3\n",
            "4800/4800 [==============================] - 53s 11ms/step - loss: 0.1002 - accuracy: 0.9687\n",
            "Epoch 3/3\n",
            "4800/4800 [==============================] - 53s 11ms/step - loss: 0.0733 - accuracy: 0.9772\n",
            "Epoch 1/3\n",
            "4800/4800 [==============================] - 54s 11ms/step - loss: 1.0528 - accuracy: 0.6321\n",
            "Epoch 2/3\n",
            "4800/4800 [==============================] - 54s 11ms/step - loss: 0.1059 - accuracy: 0.9678\n",
            "Epoch 3/3\n",
            "4800/4800 [==============================] - 54s 11ms/step - loss: 0.0735 - accuracy: 0.9773\n",
            "Epoch 1/3\n",
            "4800/4800 [==============================] - 54s 11ms/step - loss: 1.1203 - accuracy: 0.6017\n",
            "Epoch 2/3\n",
            "4800/4800 [==============================] - 52s 11ms/step - loss: 0.0852 - accuracy: 0.9749\n",
            "Epoch 3/3\n",
            "4800/4800 [==============================] - 52s 11ms/step - loss: 0.0558 - accuracy: 0.9827\n",
            "Epoch 1/3\n",
            "4800/4800 [==============================] - 53s 11ms/step - loss: 1.3227 - accuracy: 0.5163\n",
            "Epoch 2/3\n",
            "4800/4800 [==============================] - 52s 11ms/step - loss: 0.0895 - accuracy: 0.9722\n",
            "Epoch 3/3\n",
            "4800/4800 [==============================] - 53s 11ms/step - loss: 0.0550 - accuracy: 0.9823\n",
            "Epoch 1/3\n",
            "4800/4800 [==============================] - 55s 11ms/step - loss: 1.0604 - accuracy: 0.6219\n",
            "Epoch 2/3\n",
            "4800/4800 [==============================] - 53s 11ms/step - loss: 0.0894 - accuracy: 0.9729\n",
            "Epoch 3/3\n",
            "4800/4800 [==============================] - 53s 11ms/step - loss: 0.0551 - accuracy: 0.9832\n",
            "Epoch 1/3\n",
            "4800/4800 [==============================] - 53s 11ms/step - loss: 1.0126 - accuracy: 0.6436\n",
            "Epoch 2/3\n",
            "4800/4800 [==============================] - 53s 11ms/step - loss: 0.0844 - accuracy: 0.9748\n",
            "Epoch 3/3\n",
            "4800/4800 [==============================] - 53s 11ms/step - loss: 0.0606 - accuracy: 0.9809\n",
            "Epoch 1/3\n",
            "4800/4800 [==============================] - 53s 11ms/step - loss: 1.2822 - accuracy: 0.5322\n",
            "Epoch 2/3\n",
            "4800/4800 [==============================] - 52s 11ms/step - loss: 0.1065 - accuracy: 0.9688\n",
            "Epoch 3/3\n",
            "4800/4800 [==============================] - 53s 11ms/step - loss: 0.0659 - accuracy: 0.9797\n",
            "Epoch 1/3\n",
            "4800/4800 [==============================] - 53s 11ms/step - loss: 2.3100 - accuracy: 0.1078\n",
            "Epoch 2/3\n",
            "4800/4800 [==============================] - 52s 11ms/step - loss: 2.3058 - accuracy: 0.1044\n",
            "Epoch 3/3\n",
            "4800/4800 [==============================] - 53s 11ms/step - loss: 2.3047 - accuracy: 0.1054\n",
            "Epoch 1/3\n",
            "4800/4800 [==============================] - 53s 11ms/step - loss: 2.3117 - accuracy: 0.1062\n",
            "Epoch 2/3\n",
            "4800/4800 [==============================] - 53s 11ms/step - loss: 2.3049 - accuracy: 0.1089\n",
            "Epoch 3/3\n",
            "4800/4800 [==============================] - 53s 11ms/step - loss: 2.3038 - accuracy: 0.1103\n",
            "Epoch 1/3\n",
            "4800/4800 [==============================] - 54s 11ms/step - loss: 2.3116 - accuracy: 0.1004\n",
            "Epoch 2/3\n",
            "4800/4800 [==============================] - 53s 11ms/step - loss: 2.3050 - accuracy: 0.1040\n",
            "Epoch 3/3\n",
            "4800/4800 [==============================] - 53s 11ms/step - loss: 2.3044 - accuracy: 0.1028\n",
            "Epoch 1/3\n",
            "4800/4800 [==============================] - 53s 11ms/step - loss: 2.3114 - accuracy: 0.1047\n",
            "Epoch 2/3\n",
            "4800/4800 [==============================] - 53s 11ms/step - loss: 2.3066 - accuracy: 0.1013\n",
            "Epoch 3/3\n",
            "4800/4800 [==============================] - 53s 11ms/step - loss: 2.3050 - accuracy: 0.1063\n",
            "Epoch 1/3\n",
            "4800/4800 [==============================] - 53s 11ms/step - loss: 2.3170 - accuracy: 0.1044\n",
            "Epoch 2/3\n",
            "4800/4800 [==============================] - 53s 11ms/step - loss: 2.3050 - accuracy: 0.1055\n",
            "Epoch 3/3\n",
            "4800/4800 [==============================] - 52s 11ms/step - loss: 2.3037 - accuracy: 0.1119\n",
            "Epoch 1/3\n",
            "4800/4800 [==============================] - 60s 12ms/step - loss: 0.2632 - accuracy: 0.9199\n",
            "Epoch 2/3\n",
            "4800/4800 [==============================] - 60s 13ms/step - loss: 0.0882 - accuracy: 0.9764\n",
            "Epoch 3/3\n",
            "4800/4800 [==============================] - 60s 13ms/step - loss: 0.0620 - accuracy: 0.9840\n",
            "Epoch 1/3\n",
            "4800/4800 [==============================] - 62s 13ms/step - loss: 0.2655 - accuracy: 0.9210\n",
            "Epoch 2/3\n",
            "4800/4800 [==============================] - 61s 13ms/step - loss: 0.0872 - accuracy: 0.9764\n",
            "Epoch 3/3\n",
            "4800/4800 [==============================] - 60s 13ms/step - loss: 0.0585 - accuracy: 0.9860\n",
            "Epoch 1/3\n",
            "4800/4800 [==============================] - 62s 13ms/step - loss: 0.2769 - accuracy: 0.9173\n",
            "Epoch 2/3\n",
            "4800/4800 [==============================] - 61s 13ms/step - loss: 0.0814 - accuracy: 0.9794\n",
            "Epoch 3/3\n",
            "4800/4800 [==============================] - 60s 13ms/step - loss: 0.0640 - accuracy: 0.9840\n",
            "Epoch 1/3\n",
            "4800/4800 [==============================] - 61s 13ms/step - loss: 0.2633 - accuracy: 0.9213\n",
            "Epoch 2/3\n",
            "4800/4800 [==============================] - 61s 13ms/step - loss: 0.0869 - accuracy: 0.9778\n",
            "Epoch 3/3\n",
            "4800/4800 [==============================] - 61s 13ms/step - loss: 0.0617 - accuracy: 0.9852\n",
            "Epoch 1/3\n",
            "4800/4800 [==============================] - 61s 13ms/step - loss: 0.2622 - accuracy: 0.9195\n",
            "Epoch 2/3\n",
            "4800/4800 [==============================] - 61s 13ms/step - loss: 0.0870 - accuracy: 0.9763\n",
            "Epoch 3/3\n",
            "4800/4800 [==============================] - 62s 13ms/step - loss: 0.0643 - accuracy: 0.9841\n",
            "Epoch 1/3\n",
            "4800/4800 [==============================] - 60s 12ms/step - loss: 0.2658 - accuracy: 0.9169\n",
            "Epoch 2/3\n",
            "4800/4800 [==============================] - 60s 12ms/step - loss: 0.0837 - accuracy: 0.9756\n",
            "Epoch 3/3\n",
            "4800/4800 [==============================] - 60s 12ms/step - loss: 0.0651 - accuracy: 0.9806\n",
            "Epoch 1/3\n",
            "4800/4800 [==============================] - 59s 12ms/step - loss: 0.2601 - accuracy: 0.9201\n",
            "Epoch 2/3\n",
            "4800/4800 [==============================] - 59s 12ms/step - loss: 0.0851 - accuracy: 0.9750\n",
            "Epoch 3/3\n",
            "4800/4800 [==============================] - 59s 12ms/step - loss: 0.0660 - accuracy: 0.9807\n",
            "Epoch 1/3\n",
            "4800/4800 [==============================] - 59s 12ms/step - loss: 0.2672 - accuracy: 0.9174\n",
            "Epoch 2/3\n",
            "4800/4800 [==============================] - 60s 13ms/step - loss: 0.0853 - accuracy: 0.9749\n",
            "Epoch 3/3\n",
            "4800/4800 [==============================] - 59s 12ms/step - loss: 0.0646 - accuracy: 0.9813\n",
            "Epoch 1/3\n",
            "4800/4800 [==============================] - 61s 13ms/step - loss: 0.2829 - accuracy: 0.9118\n",
            "Epoch 2/3\n",
            "4800/4800 [==============================] - 59s 12ms/step - loss: 0.0817 - accuracy: 0.9763\n",
            "Epoch 3/3\n",
            "4800/4800 [==============================] - 58s 12ms/step - loss: 0.0718 - accuracy: 0.9807\n",
            "Epoch 1/3\n",
            "4800/4800 [==============================] - 60s 12ms/step - loss: 0.2749 - accuracy: 0.9138\n",
            "Epoch 2/3\n",
            "4800/4800 [==============================] - 60s 12ms/step - loss: 0.0825 - accuracy: 0.9759\n",
            "Epoch 3/3\n",
            "4800/4800 [==============================] - 60s 13ms/step - loss: 0.0656 - accuracy: 0.9810\n",
            "Epoch 1/3\n",
            "4800/4800 [==============================] - 59s 12ms/step - loss: 0.4084 - accuracy: 0.8770\n",
            "Epoch 2/3\n",
            "4800/4800 [==============================] - 59s 12ms/step - loss: 0.0757 - accuracy: 0.9774\n",
            "Epoch 3/3\n",
            "4800/4800 [==============================] - 59s 12ms/step - loss: 0.0510 - accuracy: 0.9836\n",
            "Epoch 1/3\n",
            "4800/4800 [==============================] - 60s 12ms/step - loss: 0.4108 - accuracy: 0.8784\n",
            "Epoch 2/3\n",
            "4800/4800 [==============================] - 59s 12ms/step - loss: 0.0764 - accuracy: 0.9761\n",
            "Epoch 3/3\n",
            "4800/4800 [==============================] - 59s 12ms/step - loss: 0.0534 - accuracy: 0.9835\n",
            "Epoch 1/3\n",
            "4800/4800 [==============================] - 59s 12ms/step - loss: 0.3859 - accuracy: 0.8854\n",
            "Epoch 2/3\n",
            "4800/4800 [==============================] - 58s 12ms/step - loss: 0.0765 - accuracy: 0.9779\n",
            "Epoch 3/3\n",
            "4800/4800 [==============================] - 58s 12ms/step - loss: 0.0496 - accuracy: 0.9844\n",
            "Epoch 1/3\n",
            "4800/4800 [==============================] - 58s 12ms/step - loss: 0.3835 - accuracy: 0.8869\n",
            "Epoch 2/3\n",
            "4800/4800 [==============================] - 58s 12ms/step - loss: 0.0739 - accuracy: 0.9771\n",
            "Epoch 3/3\n",
            "4800/4800 [==============================] - 58s 12ms/step - loss: 0.0498 - accuracy: 0.9854\n",
            "Epoch 1/3\n",
            "4800/4800 [==============================] - 59s 12ms/step - loss: 0.4015 - accuracy: 0.8782\n",
            "Epoch 2/3\n",
            "4800/4800 [==============================] - 59s 12ms/step - loss: 0.0751 - accuracy: 0.9770\n",
            "Epoch 3/3\n",
            "4800/4800 [==============================] - 59s 12ms/step - loss: 0.0497 - accuracy: 0.9851\n",
            "Epoch 1/3\n",
            "6000/6000 [==============================] - 70s 12ms/step - loss: 0.2436 - accuracy: 0.9212\n",
            "Epoch 2/3\n",
            "6000/6000 [==============================] - 68s 11ms/step - loss: 0.0440 - accuracy: 0.9863\n",
            "Epoch 3/3\n",
            "6000/6000 [==============================] - 68s 11ms/step - loss: 0.0290 - accuracy: 0.9911\n"
          ],
          "name": "stdout"
        }
      ]
    },
    {
      "cell_type": "code",
      "metadata": {
        "colab": {
          "base_uri": "https://localhost:8080/"
        },
        "id": "LnHcu7meudt2",
        "outputId": "f5255b56-2f00-4b7d-8fbd-3633e0ab35bb"
      },
      "source": [
        "print(\"Best: %f using %s\" % (grid_results.best_score_, grid_results.best_params_))\r\n",
        "means = grid_results.cv_results_['mean_test_score']\r\n",
        "stds = grid_results.cv_results_['std_test_score']\r\n",
        "params = grid_results.cv_results_['params']\r\n",
        "for mean, stdev, param in zip(means, stds, params):\r\n",
        "    print(\"%f (%f) with: %r\" % (mean, stdev, param))"
      ],
      "execution_count": 11,
      "outputs": [
        {
          "output_type": "stream",
          "text": [
            "Best: 0.987217 using {'act': 'relu', 'opt': 'Adam'}\n",
            "0.984200 (0.002615) with: {'act': 'relu', 'opt': 'rmsprop'}\n",
            "0.987217 (0.002249) with: {'act': 'relu', 'opt': 'Adam'}\n",
            "0.980917 (0.001599) with: {'act': 'relu', 'opt': 'SGD'}\n",
            "0.977150 (0.002601) with: {'act': 'sigmoid', 'opt': 'rmsprop'}\n",
            "0.982400 (0.001116) with: {'act': 'sigmoid', 'opt': 'Adam'}\n",
            "0.112367 (0.003342) with: {'act': 'sigmoid', 'opt': 'SGD'}\n",
            "0.980300 (0.003443) with: {'act': 'selu', 'opt': 'rmsprop'}\n",
            "0.981083 (0.001575) with: {'act': 'selu', 'opt': 'Adam'}\n",
            "0.981800 (0.001505) with: {'act': 'selu', 'opt': 'SGD'}\n"
          ],
          "name": "stdout"
        }
      ]
    },
    {
      "cell_type": "code",
      "metadata": {
        "id": "_tceqju62C3s"
      },
      "source": [
        "model = TModel(act='relu',opt='Adam')"
      ],
      "execution_count": 14,
      "outputs": []
    },
    {
      "cell_type": "code",
      "metadata": {
        "colab": {
          "base_uri": "https://localhost:8080/"
        },
        "id": "hCKmUbCco8bH",
        "outputId": "f830bbe7-f8b0-4b0f-d5b4-4ab7fa039c7b"
      },
      "source": [
        "history = model.fit(train_images, train_labels, epochs=5, batch_size=64, validation_split=0.2)"
      ],
      "execution_count": 15,
      "outputs": [
        {
          "output_type": "stream",
          "text": [
            "Epoch 1/5\n",
            "750/750 [==============================] - 39s 52ms/step - loss: 0.5043 - accuracy: 0.8414 - val_loss: 0.0663 - val_accuracy: 0.9784\n",
            "Epoch 2/5\n",
            "750/750 [==============================] - 39s 52ms/step - loss: 0.0593 - accuracy: 0.9816 - val_loss: 0.0445 - val_accuracy: 0.9861\n",
            "Epoch 3/5\n",
            "750/750 [==============================] - 39s 52ms/step - loss: 0.0395 - accuracy: 0.9880 - val_loss: 0.0561 - val_accuracy: 0.9830\n",
            "Epoch 4/5\n",
            "750/750 [==============================] - 39s 52ms/step - loss: 0.0287 - accuracy: 0.9904 - val_loss: 0.0463 - val_accuracy: 0.9868\n",
            "Epoch 5/5\n",
            "750/750 [==============================] - 39s 51ms/step - loss: 0.0274 - accuracy: 0.9912 - val_loss: 0.0391 - val_accuracy: 0.9883\n"
          ],
          "name": "stdout"
        }
      ]
    },
    {
      "cell_type": "code",
      "metadata": {
        "colab": {
          "base_uri": "https://localhost:8080/"
        },
        "id": "DcZIkO2xaJLd",
        "outputId": "05e5c317-0efe-4219-ef7f-50faf26e87cf"
      },
      "source": [
        "#Accuracy \r\n",
        "test_loss, test_acc = model.evaluate(test_images, test_labels)\r\n",
        "test_acc"
      ],
      "execution_count": 16,
      "outputs": [
        {
          "output_type": "stream",
          "text": [
            "313/313 [==============================] - 3s 9ms/step - loss: 0.0306 - accuracy: 0.9894\n"
          ],
          "name": "stdout"
        },
        {
          "output_type": "execute_result",
          "data": {
            "text/plain": [
              "0.9894000291824341"
            ]
          },
          "metadata": {
            "tags": []
          },
          "execution_count": 16
        }
      ]
    },
    {
      "cell_type": "code",
      "metadata": {
        "colab": {
          "base_uri": "https://localhost:8080/",
          "height": 545
        },
        "id": "4hYPV8OyaPrF",
        "outputId": "c629f8a0-8243-4c62-d954-bf2f73dd5254"
      },
      "source": [
        "#Plotting\r\n",
        "acc = history.history['accuracy']\r\n",
        "val_acc = history.history['val_accuracy']\r\n",
        "loss = history.history['loss']\r\n",
        "val_loss = history.history['val_loss']\r\n",
        "\r\n",
        "epochs = range(1, len(acc) + 1)\r\n",
        "\r\n",
        "plt.plot(epochs, acc, 'bo', label='Training acc')\r\n",
        "plt.plot(epochs, val_acc, 'b', label='Validation acc')\r\n",
        "plt.title('Training and validation accuracy')\r\n",
        "plt.legend()\r\n",
        "\r\n",
        "plt.figure()\r\n",
        "\r\n",
        "plt.plot(epochs, loss, 'bo', label='Training loss')\r\n",
        "plt.plot(epochs, val_loss, 'b', label='Validation loss')\r\n",
        "plt.title('Training and validation loss')\r\n",
        "plt.legend()\r\n",
        "\r\n",
        "plt.show()"
      ],
      "execution_count": 17,
      "outputs": [
        {
          "output_type": "display_data",
          "data": {
            "image/png": "[encoded data removed]",
            "text/plain": [
              "<Figure size 432x288 with 1 Axes>"
            ]
          },
          "metadata": {
            "tags": [],
            "needs_background": "light"
          }
        },
        {
          "output_type": "display_data",
          "data": {
            "image/png": "[encoded data removed]",
            "text/plain": [
              "<Figure size 432x288 with 1 Axes>"
            ]
          },
          "metadata": {
            "tags": [],
            "needs_background": "light"
          }
        }
      ]
    }
  ]
}