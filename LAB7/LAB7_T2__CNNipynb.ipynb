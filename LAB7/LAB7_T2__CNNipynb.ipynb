{
  "nbformat": 4,
  "nbformat_minor": 0,
  "metadata": {
    "colab": {
      "name": "LAB7_T2._CNNipynb",
      "provenance": [],
      "include_colab_link": true
    },
    "kernelspec": {
      "name": "python3",
      "display_name": "Python 3"
    },
    "accelerator": "GPU"
  },
  "cells": [
    {
      "cell_type": "markdown",
      "metadata": {
        "id": "view-in-github",
        "colab_type": "text"
      },
      "source": [
        "<a href=\"https://colab.research.google.com/github/CesarRoldan99/CEE88_Cesar/blob/main/LAB7/LAB7_T2__CNNipynb.ipynb\" target=\"_parent\"><img src=\"https://colab.research.google.com/assets/colab-badge.svg\" alt=\"Open In Colab\"/></a>"
      ]
    },
    {
      "cell_type": "markdown",
      "metadata": {
        "id": "qTh9DiKVslsJ"
      },
      "source": [
        "## Dogs vs. Cats \n",
        "\n",
        "In this competition, you'll write an algorithm to classify whether images contain either a dog or a cat.  This is easy for humans, dogs, and cats. Your computer will find it a bit more difficult.\n",
        "\n",
        "![alt text](https://miro.medium.com/max/3000/1*bhFifratH9DjKqMBTeQG5A.gif)\n",
        "\n",
        "Ref: https://medium.com/@thegrigorian/rolling-in-the-deep-cnn-c8d3f7108c8c"
      ]
    },
    {
      "cell_type": "markdown",
      "metadata": {
        "id": "RSBI-_mSSY1g"
      },
      "source": [
        "Get your API Key from Kaggle using following steps:\n",
        "1. Login to [Kaggle](https://www.kaggle.com/) or Register if you don't have account\n",
        "2. Open Dataset (https://www.kaggle.com/c/dogs-vs-cats/rules) and accept terms and condition. \n",
        "3. On the top right corner click on your Icon and go to accounts and press a button \"Create New API Token\". It will download a JSON file containing your username and key. \n",
        "4. Now, paste both below. \n"
      ]
    },
    {
      "cell_type": "code",
      "metadata": {
        "id": "YmXSOc0tZIGA",
        "colab": {
          "base_uri": "https://localhost:8080/"
        },
        "outputId": "59aeff74-f007-47bd-b327-aecc2c81d41f"
      },
      "source": [
        "import os\n",
        "os.environ['KAGGLE_USERNAME'] = \"cesarroldan\" # username from the json file\n",
        "os.environ['KAGGLE_KEY'] = \"8f5c208c7088f7f5929cd22f9b23ea2e\" # key from the json file\n",
        "!kaggle competitions download -c dogs-vs-cats # api copied from kaggle (https://www.kaggle.com/c/dogs-vs-cats/data)"
      ],
      "execution_count": 18,
      "outputs": [
        {
          "output_type": "stream",
          "text": [
            "Warning: Looks like you're using an outdated API Version, please consider updating (server 1.5.10 / client 1.5.4)\n",
            "train.zip: Skipping, found more recently modified local copy (use --force to force download)\n",
            "test1.zip: Skipping, found more recently modified local copy (use --force to force download)\n",
            "sampleSubmission.csv: Skipping, found more recently modified local copy (use --force to force download)\n"
          ],
          "name": "stdout"
        }
      ]
    },
    {
      "cell_type": "code",
      "metadata": {
        "id": "PiwIL8d1n7eS",
        "colab": {
          "base_uri": "https://localhost:8080/"
        },
        "outputId": "4ee86bbf-f88a-40b2-d6a5-a731517c0376"
      },
      "source": [
        "# Unzip training data\n",
        "from zipfile import ZipFile\n",
        "file_name = \"/content/train.zip\"\n",
        "with ZipFile(file_name, 'r') as zip:\n",
        "  zip.extractall()\n",
        "  print('done')"
      ],
      "execution_count": 19,
      "outputs": [
        {
          "output_type": "stream",
          "text": [
            "done\n"
          ],
          "name": "stdout"
        }
      ]
    },
    {
      "cell_type": "code",
      "metadata": {
        "id": "sa2Bj5i7pPKV",
        "colab": {
          "base_uri": "https://localhost:8080/"
        },
        "outputId": "6b33fd7c-9488-4da5-8b2b-72d03be6e39b"
      },
      "source": [
        "# Get all the paths\n",
        "data_dir_list = os.listdir('/content/train')\n",
        "#print(data_dir_list)\n",
        "path, dirs, files = next(os.walk(\"/content/train\"))\n",
        "file_count = len(files)\n",
        "print(file_count)"
      ],
      "execution_count": 20,
      "outputs": [
        {
          "output_type": "stream",
          "text": [
            "25000\n"
          ],
          "name": "stdout"
        }
      ]
    },
    {
      "cell_type": "code",
      "metadata": {
        "id": "0ERlHkfHqpK8"
      },
      "source": [
        "# Make new base directory\n",
        "original_dataset_dir = '/content/train'\n",
        "base_dir = '/content/cats_and_dogs_small'\n",
        "os.mkdir(base_dir)"
      ],
      "execution_count": null,
      "outputs": []
    },
    {
      "cell_type": "code",
      "metadata": {
        "id": "AANB1UJ6rQhM"
      },
      "source": [
        "train_dir = os.path.join(base_dir, 'train')\n",
        "os.mkdir(train_dir)\n",
        "\n",
        "validation_dir = os.path.join(base_dir, 'validation')\n",
        "os.mkdir(validation_dir)\n",
        "\n",
        "test_dir = os.path.join(base_dir, 'test')\n",
        "os.mkdir(test_dir)\n",
        "\n",
        "train_cats_dir = os.path.join(train_dir, 'cats')\n",
        "os.mkdir(train_cats_dir)\n",
        "\n",
        "train_dogs_dir = os.path.join(train_dir, 'dogs')\n",
        "os.mkdir(train_dogs_dir)\n",
        "\n",
        "validation_cats_dir = os.path.join(validation_dir, 'cats')\n",
        "os.mkdir(validation_cats_dir)\n",
        "\n",
        "validation_dogs_dir = os.path.join(validation_dir, 'dogs')\n",
        "os.mkdir(validation_dogs_dir)\n",
        "\n",
        "test_cats_dir = os.path.join(test_dir, 'cats')\n",
        "os.mkdir(test_cats_dir)\n",
        "\n",
        "test_dogs_dir = os.path.join(test_dir, 'dogs')\n",
        "os.mkdir(test_dogs_dir)"
      ],
      "execution_count": 23,
      "outputs": []
    },
    {
      "cell_type": "code",
      "metadata": {
        "id": "ULRgL9s9rV8T"
      },
      "source": [
        "import shutil\n",
        "fnames = ['cat.{}.jpg'.format(i) for i in range(1000)]\n",
        "for fname in fnames:\n",
        "    src = os.path.join(original_dataset_dir, fname)\n",
        "    dst = os.path.join(train_cats_dir, fname)\n",
        "    #print(src,dst)\n",
        "    shutil.copyfile(src, dst)\n",
        "    \n",
        "fnames = ['cat.{}.jpg'.format(i) for i in range(1000, 1500)]\n",
        "for fname in fnames:\n",
        "    src = os.path.join(original_dataset_dir, fname)\n",
        "    dst = os.path.join(validation_cats_dir, fname)\n",
        "    shutil.copyfile(src, dst)\n",
        "\n",
        "fnames = ['cat.{}.jpg'.format(i) for i in range(1500, 2000)]\n",
        "for fname in fnames:\n",
        "    src = os.path.join(original_dataset_dir, fname)\n",
        "    dst = os.path.join(test_cats_dir, fname)\n",
        "    shutil.copyfile(src, dst)\n",
        "    \n",
        "fnames = ['dog.{}.jpg'.format(i) for i in range(1000)]\n",
        "for fname in fnames:\n",
        "    src = os.path.join(original_dataset_dir, fname)\n",
        "    dst = os.path.join(train_dogs_dir, fname)\n",
        "    shutil.copyfile(src, dst)\n",
        "\n",
        "fnames = ['dog.{}.jpg'.format(i) for i in range(1000, 1500)]\n",
        "for fname in fnames:\n",
        "    src = os.path.join(original_dataset_dir, fname)\n",
        "    dst = os.path.join(validation_dogs_dir, fname)\n",
        "    shutil.copyfile(src, dst)\n",
        "\n",
        "fnames = ['dog.{}.jpg'.format(i) for i in range(1500, 2000)]\n",
        "for fname in fnames:\n",
        "    src = os.path.join(original_dataset_dir, fname)\n",
        "    dst = os.path.join(test_dogs_dir, fname)\n",
        "    shutil.copyfile(src, dst)"
      ],
      "execution_count": 24,
      "outputs": []
    },
    {
      "cell_type": "code",
      "metadata": {
        "id": "ul3XAbIyr7vC",
        "colab": {
          "base_uri": "https://localhost:8080/"
        },
        "outputId": "6fe8d5d8-0e2e-47d7-e044-2ca5543ff124"
      },
      "source": [
        "print('total training cat images:', len(os.listdir(train_cats_dir)))\n",
        "print('total training dog images:', len(os.listdir(train_dogs_dir)))\n",
        "print('total validation cat images:', len(os.listdir(validation_cats_dir)))\n",
        "\n",
        "print('total validation dog images:', len(os.listdir(validation_dogs_dir)))\n",
        "print('total test cat images:', len(os.listdir(test_cats_dir)))\n",
        "print('total test dog images:', len(os.listdir(test_dogs_dir)))"
      ],
      "execution_count": 25,
      "outputs": [
        {
          "output_type": "stream",
          "text": [
            "total training cat images: 1000\n",
            "total training dog images: 1000\n",
            "total validation cat images: 500\n",
            "total validation dog images: 500\n",
            "total test cat images: 500\n",
            "total test dog images: 500\n"
          ],
          "name": "stdout"
        }
      ]
    },
    {
      "cell_type": "code",
      "metadata": {
        "id": "o9yTA21_r-ma",
        "colab": {
          "base_uri": "https://localhost:8080/"
        },
        "outputId": "d2cad349-3d13-4daf-bafa-6e1c3418b062"
      },
      "source": [
        "from keras import layers\n",
        "from keras import models\n",
        "\n",
        "model = models.Sequential()\n",
        "model.add(layers.Conv2D(32, (3, 3), activation='relu', input_shape=(150, 150, 3)))\n",
        "model.add(layers.MaxPooling2D((2, 2)))\n",
        "model.add(layers.Conv2D(64, (3, 3), activation='relu'))\n",
        "model.add(layers.MaxPooling2D((2, 2)))\n",
        "model.add(layers.Conv2D(128, (3, 3), activation='relu'))\n",
        "model.add(layers.MaxPooling2D((2, 2)))\n",
        "model.add(layers.Conv2D(128, (3, 3), activation='relu'))\n",
        "model.add(layers.MaxPooling2D((2, 2)))\n",
        "model.add(layers.Flatten())\n",
        "model.add(layers.Dense(512, activation='relu'))\n",
        "model.add(layers.Dense(1, activation='sigmoid'))\n",
        "model.summary()"
      ],
      "execution_count": 26,
      "outputs": [
        {
          "output_type": "stream",
          "text": [
            "Model: \"sequential_1\"\n",
            "_________________________________________________________________\n",
            "Layer (type)                 Output Shape              Param #   \n",
            "=================================================================\n",
            "conv2d_4 (Conv2D)            (None, 148, 148, 32)      896       \n",
            "_________________________________________________________________\n",
            "max_pooling2d_4 (MaxPooling2 (None, 74, 74, 32)        0         \n",
            "_________________________________________________________________\n",
            "conv2d_5 (Conv2D)            (None, 72, 72, 64)        18496     \n",
            "_________________________________________________________________\n",
            "max_pooling2d_5 (MaxPooling2 (None, 36, 36, 64)        0         \n",
            "_________________________________________________________________\n",
            "conv2d_6 (Conv2D)            (None, 34, 34, 128)       73856     \n",
            "_________________________________________________________________\n",
            "max_pooling2d_6 (MaxPooling2 (None, 17, 17, 128)       0         \n",
            "_________________________________________________________________\n",
            "conv2d_7 (Conv2D)            (None, 15, 15, 128)       147584    \n",
            "_________________________________________________________________\n",
            "max_pooling2d_7 (MaxPooling2 (None, 7, 7, 128)         0         \n",
            "_________________________________________________________________\n",
            "flatten_1 (Flatten)          (None, 6272)              0         \n",
            "_________________________________________________________________\n",
            "dense_2 (Dense)              (None, 512)               3211776   \n",
            "_________________________________________________________________\n",
            "dense_3 (Dense)              (None, 1)                 513       \n",
            "=================================================================\n",
            "Total params: 3,453,121\n",
            "Trainable params: 3,453,121\n",
            "Non-trainable params: 0\n",
            "_________________________________________________________________\n"
          ],
          "name": "stdout"
        }
      ]
    },
    {
      "cell_type": "code",
      "metadata": {
        "id": "2mG8wekxsBVS"
      },
      "source": [
        "from keras import optimizers\n",
        "model.compile(loss='binary_crossentropy', \n",
        "              optimizer=optimizers.RMSprop(lr=1e-4),\n",
        "              metrics=['acc'])"
      ],
      "execution_count": 27,
      "outputs": []
    },
    {
      "cell_type": "markdown",
      "metadata": {
        "id": "7zS4Klm8qWp6"
      },
      "source": [
        "## Using ImageDataGenerator to read images from directories\n",
        "As you know by now, data should be formatted into appropriately preprocessed floatingpoint tensors before being fed into the network. Currently, the data sits on a drive as JPEG files, so the steps for getting it into the network are roughly as follows:\n",
        "\n",
        "* Read the picture files.\n",
        "* Decode the JPEG content to RGB grids of pixels.\n",
        "* Convert these into floating-point tensors.\n",
        "* Rescale the pixel values (between 0 and 255) to the [0, 1] interval (as you know, neural networks prefer to deal with small input values).\n",
        "\n",
        "It may seem a bit daunting, but fortunately Keras has utilities to take care of these steps automatically. Keras has a module with image-processing helper tools, located at keras.preprocessing.image. In particular, it contains the class ImageDataGenerator,which lets you quickly set up Python generators that can automatically turn image files on disk into batches of preprocessed tensors."
      ]
    },
    {
      "cell_type": "code",
      "metadata": {
        "id": "XJ7XU7t9sEh6",
        "colab": {
          "base_uri": "https://localhost:8080/"
        },
        "outputId": "5fb98f9e-968b-4c21-8e4d-a25646c8c4b4"
      },
      "source": [
        "from keras.preprocessing.image import ImageDataGenerator\n",
        "\n",
        "train_datagen = ImageDataGenerator(rescale=1./255)\n",
        "test_datagen = ImageDataGenerator(rescale=1./255)\n",
        "\n",
        "train_generator = train_datagen.flow_from_directory(train_dir,\n",
        "                                                    target_size=(150, 150), \n",
        "                                                    batch_size=20,\n",
        "                                                    class_mode='binary')\n",
        "\n",
        "validation_generator = test_datagen.flow_from_directory(validation_dir,\n",
        "                                                        target_size=(150, 150),\n",
        "                                                        batch_size=20,\n",
        "                                                        class_mode='binary')"
      ],
      "execution_count": 28,
      "outputs": [
        {
          "output_type": "stream",
          "text": [
            "Found 2000 images belonging to 2 classes.\n",
            "Found 1000 images belonging to 2 classes.\n"
          ],
          "name": "stdout"
        }
      ]
    },
    {
      "cell_type": "markdown",
      "metadata": {
        "id": "SEgLywySqm4u"
      },
      "source": [
        "Let’s fit the model to the data using the generator. You do so using the fit_generator method, the equivalent of fit for data generators like this one. It expects as its first argument a Python generator that will yield batches of inputs and targets indefinitely,like this one does. Because the data is being generated endlessly, the Keras model needs to know how many samples to draw from the generator before declaring anepoch over. This is the role of the `steps_per_epoch` argument: after having drawn `steps_per_epoch` batches from the generator—that is, after having run for `steps_per_epoch` gradient descent steps—the fitting process will go to the next epoch. In this case, batches are 20 samples, so it will take 100 batches until you see your target of 2,000 samples.\n",
        "\n",
        "When using fit_generator, you can pass a validation_data argument, much as with the fit method. It’s important to note that this argument is allowed to be a data generator, but it could also be a tuple of Numpy arrays. If you pass a generator as validation_data, then this generator is expected to yield batches of validation data endlessly; thus you should also specify the validation_steps argument, which tells the process how many batches to draw from the validation generator for evaluation."
      ]
    },
    {
      "cell_type": "code",
      "metadata": {
        "id": "yMyfPphJsJG6",
        "colab": {
          "base_uri": "https://localhost:8080/"
        },
        "outputId": "6ca42fe4-7201-4d16-de8b-a961105cef2e"
      },
      "source": [
        "history = model.fit_generator(train_generator,\n",
        "                              steps_per_epoch=100,\n",
        "                              epochs=30,\n",
        "                              validation_data=validation_generator,\n",
        "                              validation_steps=10)"
      ],
      "execution_count": 29,
      "outputs": [
        {
          "output_type": "stream",
          "text": [
            "/usr/local/lib/python3.7/dist-packages/tensorflow/python/keras/engine/training.py:1844: UserWarning: `Model.fit_generator` is deprecated and will be removed in a future version. Please use `Model.fit`, which supports generators.\n",
            "  warnings.warn('`Model.fit_generator` is deprecated and '\n"
          ],
          "name": "stderr"
        },
        {
          "output_type": "stream",
          "text": [
            "Epoch 1/30\n",
            "100/100 [==============================] - 11s 83ms/step - loss: 0.6965 - acc: 0.5180 - val_loss: 0.6974 - val_acc: 0.5150\n",
            "Epoch 2/30\n",
            "100/100 [==============================] - 8s 82ms/step - loss: 0.6647 - acc: 0.6017 - val_loss: 0.6633 - val_acc: 0.5450\n",
            "Epoch 3/30\n",
            "100/100 [==============================] - 8s 82ms/step - loss: 0.6154 - acc: 0.6579 - val_loss: 0.6240 - val_acc: 0.6550\n",
            "Epoch 4/30\n",
            "100/100 [==============================] - 8s 82ms/step - loss: 0.5699 - acc: 0.7135 - val_loss: 0.5733 - val_acc: 0.6800\n",
            "Epoch 5/30\n",
            "100/100 [==============================] - 8s 81ms/step - loss: 0.5270 - acc: 0.7304 - val_loss: 0.6166 - val_acc: 0.6450\n",
            "Epoch 6/30\n",
            "100/100 [==============================] - 8s 83ms/step - loss: 0.5093 - acc: 0.7468 - val_loss: 0.6385 - val_acc: 0.6250\n",
            "Epoch 7/30\n",
            "100/100 [==============================] - 8s 83ms/step - loss: 0.4721 - acc: 0.7910 - val_loss: 0.6171 - val_acc: 0.6700\n",
            "Epoch 8/30\n",
            "100/100 [==============================] - 8s 82ms/step - loss: 0.4177 - acc: 0.8131 - val_loss: 0.5213 - val_acc: 0.7150\n",
            "Epoch 9/30\n",
            "100/100 [==============================] - 8s 82ms/step - loss: 0.3956 - acc: 0.8211 - val_loss: 0.5561 - val_acc: 0.7350\n",
            "Epoch 10/30\n",
            "100/100 [==============================] - 8s 82ms/step - loss: 0.3721 - acc: 0.8268 - val_loss: 0.5938 - val_acc: 0.6850\n",
            "Epoch 11/30\n",
            "100/100 [==============================] - 8s 82ms/step - loss: 0.3498 - acc: 0.8488 - val_loss: 0.6842 - val_acc: 0.6950\n",
            "Epoch 12/30\n",
            "100/100 [==============================] - 8s 82ms/step - loss: 0.3310 - acc: 0.8546 - val_loss: 0.6188 - val_acc: 0.7050\n",
            "Epoch 13/30\n",
            "100/100 [==============================] - 8s 83ms/step - loss: 0.2950 - acc: 0.8746 - val_loss: 0.4558 - val_acc: 0.8050\n",
            "Epoch 14/30\n",
            "100/100 [==============================] - 8s 82ms/step - loss: 0.2793 - acc: 0.8825 - val_loss: 0.5607 - val_acc: 0.7400\n",
            "Epoch 15/30\n",
            "100/100 [==============================] - 8s 83ms/step - loss: 0.2467 - acc: 0.9006 - val_loss: 0.5770 - val_acc: 0.7200\n",
            "Epoch 16/30\n",
            "100/100 [==============================] - 8s 83ms/step - loss: 0.2334 - acc: 0.9135 - val_loss: 0.7808 - val_acc: 0.7000\n",
            "Epoch 17/30\n",
            "100/100 [==============================] - 8s 84ms/step - loss: 0.2024 - acc: 0.9250 - val_loss: 0.6198 - val_acc: 0.6750\n",
            "Epoch 18/30\n",
            "100/100 [==============================] - 8s 84ms/step - loss: 0.1888 - acc: 0.9332 - val_loss: 0.6369 - val_acc: 0.7300\n",
            "Epoch 19/30\n",
            "100/100 [==============================] - 8s 84ms/step - loss: 0.1458 - acc: 0.9540 - val_loss: 0.6861 - val_acc: 0.7250\n",
            "Epoch 20/30\n",
            "100/100 [==============================] - 8s 84ms/step - loss: 0.1451 - acc: 0.9535 - val_loss: 0.6750 - val_acc: 0.7550\n",
            "Epoch 21/30\n",
            "100/100 [==============================] - 8s 84ms/step - loss: 0.1221 - acc: 0.9578 - val_loss: 0.7852 - val_acc: 0.7300\n",
            "Epoch 22/30\n",
            "100/100 [==============================] - 9s 85ms/step - loss: 0.1031 - acc: 0.9717 - val_loss: 0.7059 - val_acc: 0.7200\n",
            "Epoch 23/30\n",
            "100/100 [==============================] - 8s 84ms/step - loss: 0.0765 - acc: 0.9829 - val_loss: 0.7673 - val_acc: 0.7450\n",
            "Epoch 24/30\n",
            "100/100 [==============================] - 8s 83ms/step - loss: 0.0820 - acc: 0.9793 - val_loss: 0.7971 - val_acc: 0.7400\n",
            "Epoch 25/30\n",
            "100/100 [==============================] - 8s 84ms/step - loss: 0.0640 - acc: 0.9853 - val_loss: 1.1189 - val_acc: 0.7150\n",
            "Epoch 26/30\n",
            "100/100 [==============================] - 8s 83ms/step - loss: 0.0522 - acc: 0.9891 - val_loss: 0.9734 - val_acc: 0.7250\n",
            "Epoch 27/30\n",
            "100/100 [==============================] - 8s 84ms/step - loss: 0.0432 - acc: 0.9914 - val_loss: 1.1684 - val_acc: 0.7250\n",
            "Epoch 28/30\n",
            "100/100 [==============================] - 8s 84ms/step - loss: 0.0484 - acc: 0.9889 - val_loss: 1.1221 - val_acc: 0.7250\n",
            "Epoch 29/30\n",
            "100/100 [==============================] - 8s 83ms/step - loss: 0.0279 - acc: 0.9939 - val_loss: 0.9847 - val_acc: 0.7250\n",
            "Epoch 30/30\n",
            "100/100 [==============================] - 8s 83ms/step - loss: 0.0389 - acc: 0.9917 - val_loss: 1.1438 - val_acc: 0.6750\n"
          ],
          "name": "stdout"
        }
      ]
    },
    {
      "cell_type": "code",
      "metadata": {
        "id": "MZaZ2HWZsNUi",
        "colab": {
          "base_uri": "https://localhost:8080/",
          "height": 545
        },
        "outputId": "ec553995-04b8-45e7-a245-f3261c75d2ab"
      },
      "source": [
        "model.save('cats_and_dogs_small_1.h5')\n",
        "\n",
        "import matplotlib.pyplot as plt\n",
        "\n",
        "acc = history.history['acc']\n",
        "val_acc = history.history['val_acc']\n",
        "loss = history.history['loss']\n",
        "val_loss = history.history['val_loss']\n",
        "\n",
        "epochs = range(1, len(acc) + 1)\n",
        "\n",
        "plt.plot(epochs, acc, 'bo', label='Training acc')\n",
        "plt.plot(epochs, val_acc, 'b', label='Validation acc')\n",
        "plt.title('Training and validation accuracy')\n",
        "plt.legend()\n",
        "\n",
        "plt.figure()\n",
        "\n",
        "plt.plot(epochs, loss, 'bo', label='Training loss')\n",
        "plt.plot(epochs, val_loss, 'b', label='Validation loss')\n",
        "plt.title('Training and validation loss')\n",
        "plt.legend()\n",
        "\n",
        "plt.show()"
      ],
      "execution_count": 30,
      "outputs": [
        {
          "output_type": "display_data",
          "data": {
            "image/png": "[encoded data removed]",
            "text/plain": [
              "<Figure size 432x288 with 1 Axes>"
            ]
          },
          "metadata": {
            "tags": [],
            "needs_background": "light"
          }
        },
        {
          "output_type": "display_data",
          "data": {
            "image/png": "[encoded data removed]",
            "text/plain": [
              "<Figure size 432x288 with 1 Axes>"
            ]
          },
          "metadata": {
            "tags": [],
            "needs_background": "light"
          }
        }
      ]
    },
    {
      "cell_type": "markdown",
      "metadata": {
        "id": "XKZmXmBcq_8-"
      },
      "source": [
        "## Convolutional Networks with Dropout\n",
        "\n",
        "![alt text](https://camo.githubusercontent.com/ee6fa1073247cd2c3d241300caf110d7a7541bc5/68747470733a2f2f63646e2d696d616765732d312e6d656469756d2e636f6d2f6d61782f3830302f312a4972644a355067684439596f4f7956415137334d4a772e676966)\n",
        "\n",
        "Ref: https://github.com/mneha4/Training-Neural-Nets---Guidelines"
      ]
    },
    {
      "cell_type": "code",
      "metadata": {
        "id": "wu3cqeYQrDeN"
      },
      "source": [
        "model = models.Sequential()\n",
        "model.add(layers.Conv2D(32, (3, 3), activation='relu',\n",
        "input_shape=(150, 150, 3)))\n",
        "model.add(layers.MaxPooling2D((2, 2)))\n",
        "model.add(layers.Conv2D(64, (3, 3), activation='relu'))\n",
        "model.add(layers.MaxPooling2D((2, 2)))\n",
        "model.add(layers.Conv2D(128, (3, 3), activation='relu'))\n",
        "model.add(layers.MaxPooling2D((2, 2)))\n",
        "model.add(layers.Conv2D(128, (3, 3), activation='relu'))\n",
        "model.add(layers.MaxPooling2D((2, 2)))\n",
        "model.add(layers.Flatten())\n",
        "model.add(layers.Dropout(0.5))\n",
        "model.add(layers.Dense(512, activation='relu'))\n",
        "model.add(layers.Dense(1, activation='sigmoid'))\n",
        "\n",
        "model.compile(loss='binary_crossentropy',\n",
        "              optimizer=optimizers.RMSprop(lr=1e-4),\n",
        "              metrics=['acc'])"
      ],
      "execution_count": 31,
      "outputs": []
    },
    {
      "cell_type": "code",
      "metadata": {
        "id": "QSeLpvY0rH7F",
        "colab": {
          "base_uri": "https://localhost:8080/"
        },
        "outputId": "9958e0e9-0e4b-4ef0-f927-b82a14d84e1c"
      },
      "source": [
        "\n",
        "train_datagen = ImageDataGenerator(rescale=1./255,\n",
        "                                   rotation_range=40,\n",
        "                                   width_shift_range=0.2,\n",
        "                                   height_shift_range=0.2,\n",
        "                                   shear_range=0.2,\n",
        "                                   zoom_range=0.2,\n",
        "                                   horizontal_flip=True,)\n",
        "\n",
        "\n",
        "test_datagen = ImageDataGenerator(rescale=1./255)\n",
        "\n",
        "train_generator = train_datagen.flow_from_directory(train_dir,\n",
        "                                                    target_size=(150, 150),\n",
        "                                                    batch_size=20,\n",
        "                                                    class_mode='binary')\n",
        "print(len(train_generator))\n",
        "validation_generator = test_datagen.flow_from_directory(validation_dir,\n",
        "                                                        target_size=(150, 150),\n",
        "                                                        batch_size=20,\n",
        "                                                        class_mode='binary')\n",
        "print(len(validation_generator))\n",
        "\n",
        "history = model.fit_generator(train_generator,\n",
        "                              steps_per_epoch=100,\n",
        "                              epochs=20,\n",
        "                              validation_data=validation_generator,\n",
        "                              validation_steps=50)"
      ],
      "execution_count": 36,
      "outputs": [
        {
          "output_type": "stream",
          "text": [
            "Found 2000 images belonging to 2 classes.\n",
            "100\n",
            "Found 1000 images belonging to 2 classes.\n",
            "50\n"
          ],
          "name": "stdout"
        },
        {
          "output_type": "stream",
          "text": [
            "/usr/local/lib/python3.7/dist-packages/tensorflow/python/keras/engine/training.py:1844: UserWarning: `Model.fit_generator` is deprecated and will be removed in a future version. Please use `Model.fit`, which supports generators.\n",
            "  warnings.warn('`Model.fit_generator` is deprecated and '\n"
          ],
          "name": "stderr"
        },
        {
          "output_type": "stream",
          "text": [
            "Epoch 1/20\n",
            "100/100 [==============================] - 21s 213ms/step - loss: 0.6701 - acc: 0.5795 - val_loss: 0.6376 - val_acc: 0.6220\n",
            "Epoch 2/20\n",
            "100/100 [==============================] - 21s 211ms/step - loss: 0.6521 - acc: 0.6045 - val_loss: 0.7570 - val_acc: 0.5200\n",
            "Epoch 3/20\n",
            "100/100 [==============================] - 21s 209ms/step - loss: 0.6366 - acc: 0.6255 - val_loss: 0.6512 - val_acc: 0.5850\n",
            "Epoch 4/20\n",
            "100/100 [==============================] - 21s 209ms/step - loss: 0.6316 - acc: 0.6420 - val_loss: 0.6037 - val_acc: 0.6630\n",
            "Epoch 5/20\n",
            "100/100 [==============================] - 20s 204ms/step - loss: 0.6172 - acc: 0.6555 - val_loss: 0.6299 - val_acc: 0.6520\n",
            "Epoch 6/20\n",
            "100/100 [==============================] - 21s 205ms/step - loss: 0.6114 - acc: 0.6735 - val_loss: 0.5952 - val_acc: 0.6700\n",
            "Epoch 7/20\n",
            "100/100 [==============================] - 21s 210ms/step - loss: 0.6099 - acc: 0.6620 - val_loss: 0.5774 - val_acc: 0.6850\n",
            "Epoch 8/20\n",
            "100/100 [==============================] - 21s 210ms/step - loss: 0.5854 - acc: 0.6895 - val_loss: 0.6374 - val_acc: 0.6500\n",
            "Epoch 9/20\n",
            "100/100 [==============================] - 21s 211ms/step - loss: 0.5974 - acc: 0.6790 - val_loss: 0.5599 - val_acc: 0.6980\n",
            "Epoch 10/20\n",
            "100/100 [==============================] - 21s 212ms/step - loss: 0.5959 - acc: 0.6740 - val_loss: 0.5535 - val_acc: 0.6970\n",
            "Epoch 11/20\n",
            "100/100 [==============================] - 21s 208ms/step - loss: 0.5825 - acc: 0.6995 - val_loss: 0.5578 - val_acc: 0.6980\n",
            "Epoch 12/20\n",
            "100/100 [==============================] - 21s 212ms/step - loss: 0.5771 - acc: 0.6965 - val_loss: 0.5604 - val_acc: 0.6930\n",
            "Epoch 13/20\n",
            "100/100 [==============================] - 21s 210ms/step - loss: 0.5675 - acc: 0.7120 - val_loss: 0.5398 - val_acc: 0.7130\n",
            "Epoch 14/20\n",
            "100/100 [==============================] - 21s 211ms/step - loss: 0.5745 - acc: 0.7080 - val_loss: 0.5254 - val_acc: 0.7200\n",
            "Epoch 15/20\n",
            "100/100 [==============================] - 21s 208ms/step - loss: 0.5634 - acc: 0.7040 - val_loss: 0.5193 - val_acc: 0.7430\n",
            "Epoch 16/20\n",
            "100/100 [==============================] - 21s 208ms/step - loss: 0.5547 - acc: 0.7140 - val_loss: 0.5219 - val_acc: 0.7310\n",
            "Epoch 17/20\n",
            "100/100 [==============================] - 21s 206ms/step - loss: 0.5535 - acc: 0.7095 - val_loss: 0.5223 - val_acc: 0.7290\n",
            "Epoch 18/20\n",
            "100/100 [==============================] - 21s 206ms/step - loss: 0.5438 - acc: 0.7190 - val_loss: 0.5160 - val_acc: 0.7250\n",
            "Epoch 19/20\n",
            "100/100 [==============================] - 21s 207ms/step - loss: 0.5369 - acc: 0.7425 - val_loss: 0.5506 - val_acc: 0.7090\n",
            "Epoch 20/20\n",
            "100/100 [==============================] - 21s 209ms/step - loss: 0.5514 - acc: 0.7135 - val_loss: 0.5475 - val_acc: 0.7060\n"
          ],
          "name": "stdout"
        }
      ]
    },
    {
      "cell_type": "markdown",
      "metadata": {
        "id": "BRdU5yrkUF_b"
      },
      "source": [
        "# Task 2:\n",
        "\n",
        "We have used Dropout to enhance the performance of the CNN model. Can you please use whatever you like to further enhance the performance from `val_acc: 0.7506`? "
      ]
    },
    {
      "cell_type": "code",
      "metadata": {
        "id": "HEIWSCFA-JmA"
      },
      "source": [
        "model = models.Sequential()\r\n",
        "model.add(layers.Conv2D(32, (3, 3), activation='relu',\r\n",
        "input_shape=(150, 150, 3)))\r\n",
        "model.add(layers.MaxPooling2D((2, 2)))\r\n",
        "model.add(layers.Conv2D(64, (3, 3), activation='relu'))\r\n",
        "model.add(layers.MaxPooling2D((2, 2)))\r\n",
        "model.add(layers.Conv2D(128, (3, 3), activation='relu'))\r\n",
        "model.add(layers.MaxPooling2D((2, 2)))\r\n",
        "model.add(layers.Conv2D(128, (3, 3), activation='relu'))\r\n",
        "model.add(layers.MaxPooling2D((2, 2)))\r\n",
        "model.add(layers.Flatten())\r\n",
        "model.add(layers.Dropout(0.75))\r\n",
        "model.add(layers.Dense(512, activation='relu'))\r\n",
        "model.add(layers.Dense(1, activation='sigmoid'))\r\n",
        "\r\n",
        "model.compile(loss='binary_crossentropy',\r\n",
        "              optimizer=\"adamax\",\r\n",
        "              metrics=['acc'])"
      ],
      "execution_count": 41,
      "outputs": []
    },
    {
      "cell_type": "code",
      "metadata": {
        "colab": {
          "base_uri": "https://localhost:8080/"
        },
        "id": "8-X_hZB3-NTq",
        "outputId": "7e6236ad-5e6e-4f32-97d9-a074cc42a954"
      },
      "source": [
        "train_datagen = ImageDataGenerator(rescale=1./255,\r\n",
        "                                   rotation_range=45,\r\n",
        "                                   width_shift_range=0.2,\r\n",
        "                                   height_shift_range=0.2,\r\n",
        "                                   shear_range=0.2,\r\n",
        "                                   zoom_range=0.2,\r\n",
        "                                   horizontal_flip=True,)\r\n",
        "\r\n",
        "\r\n",
        "test_datagen = ImageDataGenerator(rescale=1./255)\r\n",
        "\r\n",
        "train_generator = train_datagen.flow_from_directory(train_dir,\r\n",
        "                                                    target_size=(150, 150),\r\n",
        "                                                    batch_size=20,\r\n",
        "                                                    class_mode='binary')\r\n",
        "\r\n",
        "validation_generator = test_datagen.flow_from_directory(validation_dir,\r\n",
        "                                                        target_size=(150, 150),\r\n",
        "                                                        batch_size=20,\r\n",
        "                                                        class_mode='binary')\r\n",
        "\r\n",
        "history = model.fit_generator(train_generator,\r\n",
        "                              steps_per_epoch=100,\r\n",
        "                              epochs=20,\r\n",
        "                              validation_data=validation_generator,\r\n",
        "                              validation_steps=100)"
      ],
      "execution_count": 43,
      "outputs": [
        {
          "output_type": "stream",
          "text": [
            "Found 2000 images belonging to 2 classes.\n",
            "Found 1000 images belonging to 2 classes.\n"
          ],
          "name": "stdout"
        },
        {
          "output_type": "stream",
          "text": [
            "/usr/local/lib/python3.7/dist-packages/tensorflow/python/keras/engine/training.py:1844: UserWarning: `Model.fit_generator` is deprecated and will be removed in a future version. Please use `Model.fit`, which supports generators.\n",
            "  warnings.warn('`Model.fit_generator` is deprecated and '\n"
          ],
          "name": "stderr"
        },
        {
          "output_type": "stream",
          "text": [
            "Epoch 1/20\n",
            "100/100 [==============================] - ETA: 0s - loss: 0.5499 - acc: 0.7100WARNING:tensorflow:Your input ran out of data; interrupting training. Make sure that your dataset or generator can generate at least `steps_per_epoch * epochs` batches (in this case, 100 batches). You may need to use the repeat() function when building your dataset.\n",
            "100/100 [==============================] - 21s 205ms/step - loss: 0.5499 - acc: 0.7100 - val_loss: 0.5432 - val_acc: 0.7270\n",
            "Epoch 2/20\n",
            "100/100 [==============================] - 17s 170ms/step - loss: 0.5336 - acc: 0.7340\n",
            "Epoch 3/20\n",
            "100/100 [==============================] - 17s 171ms/step - loss: 0.5140 - acc: 0.7530\n",
            "Epoch 4/20\n",
            "100/100 [==============================] - 17s 173ms/step - loss: 0.5219 - acc: 0.7350\n",
            "Epoch 5/20\n",
            "100/100 [==============================] - 17s 171ms/step - loss: 0.5147 - acc: 0.7505\n",
            "Epoch 6/20\n",
            "100/100 [==============================] - 17s 168ms/step - loss: 0.5179 - acc: 0.7490\n",
            "Epoch 7/20\n",
            "100/100 [==============================] - 17s 171ms/step - loss: 0.5057 - acc: 0.7515\n",
            "Epoch 8/20\n",
            "100/100 [==============================] - 17s 170ms/step - loss: 0.4971 - acc: 0.7575\n",
            "Epoch 9/20\n",
            "100/100 [==============================] - 17s 169ms/step - loss: 0.5089 - acc: 0.7470\n",
            "Epoch 10/20\n",
            "100/100 [==============================] - 17s 170ms/step - loss: 0.4857 - acc: 0.7750\n",
            "Epoch 11/20\n",
            "100/100 [==============================] - 17s 172ms/step - loss: 0.4953 - acc: 0.7625\n",
            "Epoch 12/20\n",
            "100/100 [==============================] - 17s 171ms/step - loss: 0.4823 - acc: 0.7570\n",
            "Epoch 13/20\n",
            "100/100 [==============================] - 17s 170ms/step - loss: 0.4948 - acc: 0.7620\n",
            "Epoch 14/20\n",
            "100/100 [==============================] - 17s 172ms/step - loss: 0.4828 - acc: 0.7765\n",
            "Epoch 15/20\n",
            "100/100 [==============================] - 17s 171ms/step - loss: 0.4772 - acc: 0.7715\n",
            "Epoch 16/20\n",
            "100/100 [==============================] - 17s 168ms/step - loss: 0.4821 - acc: 0.7685\n",
            "Epoch 17/20\n",
            "100/100 [==============================] - 17s 170ms/step - loss: 0.4684 - acc: 0.7845\n",
            "Epoch 18/20\n",
            "100/100 [==============================] - 17s 170ms/step - loss: 0.4748 - acc: 0.7735\n",
            "Epoch 19/20\n",
            "100/100 [==============================] - 17s 171ms/step - loss: 0.4565 - acc: 0.7910\n",
            "Epoch 20/20\n",
            "100/100 [==============================] - 17s 168ms/step - loss: 0.4451 - acc: 0.7955\n"
          ],
          "name": "stdout"
        }
      ]
    }
  ]
}