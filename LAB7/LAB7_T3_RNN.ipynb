{
  "nbformat": 4,
  "nbformat_minor": 0,
  "metadata": {
    "kernelspec": {
      "display_name": "Python 3",
      "language": "python",
      "name": "python3"
    },
    "language_info": {
      "codemirror_mode": {
        "name": "ipython",
        "version": 3
      },
      "file_extension": ".py",
      "mimetype": "text/x-python",
      "name": "python",
      "nbconvert_exporter": "python",
      "pygments_lexer": "ipython3",
      "version": "3.6.5"
    },
    "colab": {
      "name": "LAB7_T3_RNN.ipynb",
      "provenance": [],
      "include_colab_link": true
    }
  },
  "cells": [
    {
      "cell_type": "markdown",
      "metadata": {
        "id": "view-in-github",
        "colab_type": "text"
      },
      "source": [
        "<a href=\"https://colab.research.google.com/github/CesarRoldan99/CEE88_Cesar/blob/main/LAB7/LAB7_T3_RNN.ipynb\" target=\"_parent\"><img src=\"https://colab.research.google.com/assets/colab-badge.svg\" alt=\"Open In Colab\"/></a>"
      ]
    },
    {
      "cell_type": "code",
      "metadata": {
        "id": "2OEAdhW0qjg9",
        "colab": {
          "base_uri": "https://localhost:8080/",
          "height": 35
        },
        "outputId": "d746c5f6-e5fe-4433-aa4e-72ad0e25a675"
      },
      "source": [
        "import keras\n",
        "keras.__version__"
      ],
      "execution_count": 2,
      "outputs": [
        {
          "output_type": "execute_result",
          "data": {
            "application/vnd.google.colaboratory.intrinsic+json": {
              "type": "string"
            },
            "text/plain": [
              "'2.4.3'"
            ]
          },
          "metadata": {
            "tags": []
          },
          "execution_count": 2
        }
      ]
    },
    {
      "cell_type": "code",
      "metadata": {
        "id": "TYsNtFxgqjhC",
        "colab": {
          "base_uri": "https://localhost:8080/"
        },
        "outputId": "4eda21ba-a02c-445e-da7b-8054b1236219"
      },
      "source": [
        "from keras.preprocessing.text import Tokenizer\n",
        "samples = ['The cat sat on the mat.', 'The dog ate my homework.']\n",
        "\n",
        "# We create a tokenizer, configured to only take into account the top-1000 most common words\n",
        "tokenizer = Tokenizer(num_words=1000)\n",
        "\n",
        "# This builds the word index\n",
        "tokenizer.fit_on_texts(samples)\n",
        "\n",
        "# This turns strings into lists of integer indices.\n",
        "sequences = tokenizer.texts_to_sequences(samples)\n",
        "\n",
        "# You could also directly get the one-hot binary representations.\n",
        "# Note that other vectorization modes than one-hot encoding are supported!\n",
        "one_hot_results = tokenizer.texts_to_matrix(samples, mode='binary')\n",
        "\n",
        "# This is how you can recover the word index that was computed\n",
        "word_index = tokenizer.word_index\n",
        "print('Found %s unique tokens.' % len(word_index))"
      ],
      "execution_count": 3,
      "outputs": [
        {
          "output_type": "stream",
          "text": [
            "Found 9 unique tokens.\n"
          ],
          "name": "stdout"
        }
      ]
    },
    {
      "cell_type": "code",
      "metadata": {
        "id": "_1bFuvqKqjhF",
        "colab": {
          "base_uri": "https://localhost:8080/"
        },
        "outputId": "8c7ca709-4c97-4362-87c4-64e8255b45ef"
      },
      "source": [
        "one_hot_results"
      ],
      "execution_count": 4,
      "outputs": [
        {
          "output_type": "execute_result",
          "data": {
            "text/plain": [
              "array([[0., 1., 1., ..., 0., 0., 0.],\n",
              "       [0., 1., 0., ..., 0., 0., 0.]])"
            ]
          },
          "metadata": {
            "tags": []
          },
          "execution_count": 4
        }
      ]
    },
    {
      "cell_type": "markdown",
      "metadata": {
        "id": "95o1mdJkqjhI"
      },
      "source": [
        "Using word-embeddings "
      ]
    },
    {
      "cell_type": "code",
      "metadata": {
        "id": "DSAIqfdoqjhJ",
        "colab": {
          "base_uri": "https://localhost:8080/"
        },
        "outputId": "7af101eb-0dc1-4c9e-f986-9e96d5baaa8a"
      },
      "source": [
        "from keras.datasets import imdb\n",
        "from keras.preprocessing import sequence\n",
        "\n",
        "max_features = 10000\n",
        "maxlen = 500\n",
        "batch_size = 32\n",
        "print('Loading data...')\n",
        "(input_train, y_train), (input_test, y_test) = imdb.load_data(num_words=max_features)\n",
        "print(len(input_train), 'train sequences')\n",
        "print(len(input_test), 'test sequences')\n",
        "print('Pad sequences (samples x time)')\n",
        "input_train = sequence.pad_sequences(input_train, maxlen=maxlen)\n",
        "input_test = sequence.pad_sequences(input_test, maxlen=maxlen)\n",
        "print('input_train shape:', input_train.shape)\n",
        "print('input_test shape:', input_test.shape)"
      ],
      "execution_count": 5,
      "outputs": [
        {
          "output_type": "stream",
          "text": [
            "Loading data...\n",
            "Downloading data from https://storage.googleapis.com/tensorflow/tf-keras-datasets/imdb.npz\n",
            "17465344/17464789 [==============================] - 0s 0us/step\n"
          ],
          "name": "stdout"
        },
        {
          "output_type": "stream",
          "text": [
            "<string>:6: VisibleDeprecationWarning: Creating an ndarray from ragged nested sequences (which is a list-or-tuple of lists-or-tuples-or ndarrays with different lengths or shapes) is deprecated. If you meant to do this, you must specify 'dtype=object' when creating the ndarray\n",
            "/usr/local/lib/python3.7/dist-packages/tensorflow/python/keras/datasets/imdb.py:159: VisibleDeprecationWarning: Creating an ndarray from ragged nested sequences (which is a list-or-tuple of lists-or-tuples-or ndarrays with different lengths or shapes) is deprecated. If you meant to do this, you must specify 'dtype=object' when creating the ndarray\n",
            "  x_train, y_train = np.array(xs[:idx]), np.array(labels[:idx])\n",
            "/usr/local/lib/python3.7/dist-packages/tensorflow/python/keras/datasets/imdb.py:160: VisibleDeprecationWarning: Creating an ndarray from ragged nested sequences (which is a list-or-tuple of lists-or-tuples-or ndarrays with different lengths or shapes) is deprecated. If you meant to do this, you must specify 'dtype=object' when creating the ndarray\n",
            "  x_test, y_test = np.array(xs[idx:]), np.array(labels[idx:])\n"
          ],
          "name": "stderr"
        },
        {
          "output_type": "stream",
          "text": [
            "25000 train sequences\n",
            "25000 test sequences\n",
            "Pad sequences (samples x time)\n",
            "input_train shape: (25000, 500)\n",
            "input_test shape: (25000, 500)\n"
          ],
          "name": "stdout"
        }
      ]
    },
    {
      "cell_type": "markdown",
      "metadata": {
        "id": "5ssh97qDqjhM"
      },
      "source": [
        "### Training the model with Embedding and SimpleRNN layers"
      ]
    },
    {
      "cell_type": "code",
      "metadata": {
        "id": "t_lIlBilqjhN",
        "colab": {
          "base_uri": "https://localhost:8080/"
        },
        "outputId": "ed3a78df-6129-45fa-fe5e-3bc45ab28646"
      },
      "source": [
        "from keras.layers import Dense\n",
        "from keras.layers import Embedding, SimpleRNN\n",
        "from keras import Sequential\n",
        "\n",
        "model = Sequential()\n",
        "model.add(Embedding(max_features, 32))\n",
        "model.add(SimpleRNN(32))\n",
        "model.add(Dense(1, activation='sigmoid'))\n",
        "model.summary()\n",
        "model.compile(optimizer='rmsprop', loss='binary_crossentropy', metrics=['acc'])\n",
        "history = model.fit(input_train, y_train, \n",
        "                    epochs=10,\n",
        "                    batch_size=128,\n",
        "                    validation_split=0.2)\n"
      ],
      "execution_count": 8,
      "outputs": [
        {
          "output_type": "stream",
          "text": [
            "Model: \"sequential\"\n",
            "_________________________________________________________________\n",
            "Layer (type)                 Output Shape              Param #   \n",
            "=================================================================\n",
            "embedding (Embedding)        (None, None, 32)          320000    \n",
            "_________________________________________________________________\n",
            "simple_rnn (SimpleRNN)       (None, 32)                2080      \n",
            "_________________________________________________________________\n",
            "dense (Dense)                (None, 1)                 33        \n",
            "=================================================================\n",
            "Total params: 322,113\n",
            "Trainable params: 322,113\n",
            "Non-trainable params: 0\n",
            "_________________________________________________________________\n",
            "Epoch 1/10\n",
            "157/157 [==============================] - 27s 164ms/step - loss: 0.6523 - acc: 0.5960 - val_loss: 0.7063 - val_acc: 0.6618\n",
            "Epoch 2/10\n",
            "157/157 [==============================] - 24s 151ms/step - loss: 0.3990 - acc: 0.8378 - val_loss: 0.4627 - val_acc: 0.7834\n",
            "Epoch 3/10\n",
            "157/157 [==============================] - 24s 155ms/step - loss: 0.2901 - acc: 0.8862 - val_loss: 0.3505 - val_acc: 0.8638\n",
            "Epoch 4/10\n",
            "157/157 [==============================] - 27s 169ms/step - loss: 0.2317 - acc: 0.9112 - val_loss: 0.3630 - val_acc: 0.8482\n",
            "Epoch 5/10\n",
            "157/157 [==============================] - 25s 159ms/step - loss: 0.1945 - acc: 0.9289 - val_loss: 0.3626 - val_acc: 0.8472\n",
            "Epoch 6/10\n",
            "157/157 [==============================] - 28s 176ms/step - loss: 0.1573 - acc: 0.9460 - val_loss: 0.3722 - val_acc: 0.8660\n",
            "Epoch 7/10\n",
            "157/157 [==============================] - 26s 165ms/step - loss: 0.1703 - acc: 0.9453 - val_loss: 0.4116 - val_acc: 0.8428\n",
            "Epoch 8/10\n",
            "157/157 [==============================] - 26s 168ms/step - loss: 0.0834 - acc: 0.9737 - val_loss: 0.4724 - val_acc: 0.8472\n",
            "Epoch 9/10\n",
            "157/157 [==============================] - 27s 171ms/step - loss: 0.0518 - acc: 0.9839 - val_loss: 0.5672 - val_acc: 0.7958\n",
            "Epoch 10/10\n",
            "157/157 [==============================] - 25s 161ms/step - loss: 0.0375 - acc: 0.9877 - val_loss: 0.5465 - val_acc: 0.8236\n"
          ],
          "name": "stdout"
        }
      ]
    },
    {
      "cell_type": "code",
      "metadata": {
        "id": "w03gEZ2RqjhQ",
        "colab": {
          "base_uri": "https://localhost:8080/",
          "height": 545
        },
        "outputId": "019f926f-9825-4563-894a-cb92a5c9fdc2"
      },
      "source": [
        "import matplotlib.pyplot as plt\n",
        "\n",
        "acc = history.history['acc']\n",
        "val_acc = history.history['val_acc']\n",
        "loss = history.history['loss']\n",
        "val_loss = history.history['val_loss']\n",
        "\n",
        "epochs = range(1, len(acc) + 1)\n",
        "\n",
        "plt.plot(epochs, acc, 'bo', label='Training acc')\n",
        "plt.plot(epochs, val_acc, 'b', label='Validation acc')\n",
        "plt.title('Training and validation accuracy')\n",
        "plt.legend()\n",
        "\n",
        "plt.figure()\n",
        "\n",
        "plt.plot(epochs, loss, 'bo', label='Training loss')\n",
        "plt.plot(epochs, val_loss, 'b', label='Validation loss')\n",
        "plt.title('Training and validation loss')\n",
        "plt.legend()\n",
        "\n",
        "plt.show()"
      ],
      "execution_count": 9,
      "outputs": [
        {
          "output_type": "display_data",
          "data": {
            "image/png": "[encoded data removed]",
            "text/plain": [
              "<Figure size 432x288 with 1 Axes>"
            ]
          },
          "metadata": {
            "tags": [],
            "needs_background": "light"
          }
        },
        {
          "output_type": "display_data",
          "data": {
            "image/png": "[encoded data removed]",
            "text/plain": [
              "<Figure size 432x288 with 1 Axes>"
            ]
          },
          "metadata": {
            "tags": [],
            "needs_background": "light"
          }
        }
      ]
    },
    {
      "cell_type": "markdown",
      "metadata": {
        "id": "mz8CfgKcqjhT"
      },
      "source": [
        "### Training the model with Embedding and SimpleRNN layers"
      ]
    },
    {
      "cell_type": "code",
      "metadata": {
        "id": "U_wjH-KGqjhU",
        "colab": {
          "base_uri": "https://localhost:8080/"
        },
        "outputId": "8ac13d72-a54c-4739-f8c0-eda6157f3350"
      },
      "source": [
        "from keras.layers import LSTM\n",
        "\n",
        "model = Sequential()\n",
        "model.add(Embedding(max_features, 32))\n",
        "model.add(LSTM(32))\n",
        "model.add(Dense(1, activation='sigmoid'))\n",
        "model.compile(optimizer='rmsprop',\n",
        "loss='binary_crossentropy',\n",
        "metrics=['acc'])\n",
        "history = model.fit(input_train, y_train,\n",
        "                    epochs=10,\n",
        "                    batch_size=128,\n",
        "                    validation_split=0.2)"
      ],
      "execution_count": 10,
      "outputs": [
        {
          "output_type": "stream",
          "text": [
            "Epoch 1/10\n",
            "157/157 [==============================] - 58s 357ms/step - loss: 0.6174 - acc: 0.6690 - val_loss: 0.3464 - val_acc: 0.8650\n",
            "Epoch 2/10\n",
            "157/157 [==============================] - 65s 413ms/step - loss: 0.3142 - acc: 0.8778 - val_loss: 0.3067 - val_acc: 0.8748\n",
            "Epoch 3/10\n",
            "157/157 [==============================] - 65s 412ms/step - loss: 0.2408 - acc: 0.9087 - val_loss: 0.3415 - val_acc: 0.8670\n",
            "Epoch 4/10\n",
            "157/157 [==============================] - 65s 413ms/step - loss: 0.2052 - acc: 0.9273 - val_loss: 0.2939 - val_acc: 0.8764\n",
            "Epoch 5/10\n",
            "157/157 [==============================] - 65s 412ms/step - loss: 0.1693 - acc: 0.9400 - val_loss: 0.3162 - val_acc: 0.8676\n",
            "Epoch 6/10\n",
            "157/157 [==============================] - 64s 411ms/step - loss: 0.1589 - acc: 0.9420 - val_loss: 0.3123 - val_acc: 0.8882\n",
            "Epoch 7/10\n",
            "157/157 [==============================] - 65s 413ms/step - loss: 0.1379 - acc: 0.9518 - val_loss: 0.3719 - val_acc: 0.8800\n",
            "Epoch 8/10\n",
            "157/157 [==============================] - 65s 412ms/step - loss: 0.1330 - acc: 0.9530 - val_loss: 0.3633 - val_acc: 0.8720\n",
            "Epoch 9/10\n",
            "157/157 [==============================] - 65s 414ms/step - loss: 0.1227 - acc: 0.9581 - val_loss: 0.3213 - val_acc: 0.8834\n",
            "Epoch 10/10\n",
            "157/157 [==============================] - 66s 419ms/step - loss: 0.1024 - acc: 0.9636 - val_loss: 0.3621 - val_acc: 0.8820\n"
          ],
          "name": "stdout"
        }
      ]
    },
    {
      "cell_type": "code",
      "metadata": {
        "id": "HU4eGq-DqjhX",
        "colab": {
          "base_uri": "https://localhost:8080/",
          "height": 545
        },
        "outputId": "3fe0d94a-7242-42f4-f8e9-e0d669902deb"
      },
      "source": [
        "import matplotlib.pyplot as plt\n",
        "\n",
        "acc = history.history['acc']\n",
        "val_acc = history.history['val_acc']\n",
        "loss = history.history['loss']\n",
        "val_loss = history.history['val_loss']\n",
        "\n",
        "epochs = range(1, len(acc) + 1)\n",
        "\n",
        "plt.plot(epochs, acc, 'bo', label='Training acc')\n",
        "plt.plot(epochs, val_acc, 'b', label='Validation acc')\n",
        "plt.title('Training and validation accuracy')\n",
        "plt.legend()\n",
        "\n",
        "plt.figure()\n",
        "\n",
        "plt.plot(epochs, loss, 'bo', label='Training loss')\n",
        "plt.plot(epochs, val_loss, 'b', label='Validation loss')\n",
        "plt.title('Training and validation loss')\n",
        "plt.legend()\n",
        "\n",
        "plt.show()"
      ],
      "execution_count": 11,
      "outputs": [
        {
          "output_type": "display_data",
          "data": {
            "image/png": "[encoded data removed]",
            "text/plain": [
              "<Figure size 432x288 with 1 Axes>"
            ]
          },
          "metadata": {
            "tags": [],
            "needs_background": "light"
          }
        },
        {
          "output_type": "display_data",
          "data": {
            "image/png": "[encoded data removed]",
            "text/plain": [
              "<Figure size 432x288 with 1 Axes>"
            ]
          },
          "metadata": {
            "tags": [],
            "needs_background": "light"
          }
        }
      ]
    },
    {
      "cell_type": "markdown",
      "metadata": {
        "id": "r69U5tFUZ82R"
      },
      "source": [
        "### Task 3: \n",
        "\n",
        "Please consider this Time Series Prediction with LSTM Recurrent Neural Networks. We can see that the LSTM model in the code below has an average error of about 23 passengers (in thousands) on the training dataset, and about 53 passengers (in thousands) on the test dataset. Not that bad. Can you please improve the performance?\n",
        "\n",
        "#### Dataset Discription\n",
        "The problem we are going to look at in this post is the International Airline Passengers prediction problem.\n",
        "This is a problem where, given a year and a month, the task is to predict the number of international airline passengers in units of 1,000. The data ranges from January 1949 to December 1960, or 12 years, with 144 observations.\n",
        "\n"
      ]
    },
    {
      "cell_type": "markdown",
      "metadata": {
        "id": "ZSz24HhlbUPF"
      },
      "source": [
        "**NEW MODEL**"
      ]
    },
    {
      "cell_type": "code",
      "metadata": {
        "colab": {
          "base_uri": "https://localhost:8080/",
          "height": 1000
        },
        "id": "iboty4YivT2Z",
        "outputId": "c8a059db-7eb9-4513-f23d-a85a5ea13c9c"
      },
      "source": [
        "import numpy\r\n",
        "import math\r\n",
        "import matplotlib.pyplot as plt\r\n",
        "from pandas import read_csv\r\n",
        "from keras.models import Sequential\r\n",
        "from keras.layers import Dense\r\n",
        "from keras.layers import LSTM\r\n",
        "from sklearn.preprocessing import MinMaxScaler\r\n",
        "from sklearn.metrics import mean_squared_error\r\n",
        "\r\n",
        "# convert an array of values into a dataset matrix\r\n",
        "def create_dataset(dataset, look_back=1):\r\n",
        "\tdataX, dataY = [], []\r\n",
        "\tfor i in range(len(dataset)-look_back-1):\r\n",
        "\t\ta = dataset[i:(i+look_back), 0]\r\n",
        "\t\tdataX.append(a)\r\n",
        "\t\tdataY.append(dataset[i + look_back, 0])\r\n",
        "\treturn numpy.array(dataX), numpy.array(dataY)\r\n",
        " \r\n",
        "# fix random seed for reproducibility\r\n",
        "numpy.random.seed(7)\r\n",
        "\r\n",
        "# load the dataset\r\n",
        "dataframe = read_csv('https://raw.githubusercontent.com/jbrownlee/Datasets/master/airline-passengers.csv', usecols=[1], engine='python')\r\n",
        "dataset = dataframe.values\r\n",
        "dataset = dataset.astype('float32')\r\n",
        "\r\n",
        "# normalize the dataset\r\n",
        "scaler = MinMaxScaler(feature_range=(0, 1))\r\n",
        "dataset = scaler.fit_transform(dataset)\r\n",
        "\r\n",
        "# split into train and test sets\r\n",
        "train_size = int(len(dataset) * 0.67)\r\n",
        "test_size = len(dataset) - train_size\r\n",
        "train, test = dataset[0:train_size,:], dataset[train_size:len(dataset),:]\r\n",
        "\r\n",
        "# reshape into X=t and Y=t+1\r\n",
        "look_back = 1\r\n",
        "trainX, trainY = create_dataset(train, look_back)\r\n",
        "testX, testY = create_dataset(test, look_back)\r\n",
        "\r\n",
        "# reshape input to be [samples, time steps, features]\r\n",
        "trainX = numpy.reshape(trainX, (trainX.shape[0], 1, trainX.shape[1]))\r\n",
        "testX = numpy.reshape(testX, (testX.shape[0], 1, testX.shape[1]))\r\n",
        "\r\n",
        "# create and fit the LSTM network\r\n",
        "model = Sequential()\r\n",
        "model.add(LSTM(4, input_shape=(1, look_back),))\r\n",
        "model.add(Dense(1))\r\n",
        "model.compile(loss='mean_squared_error', optimizer='adam')\r\n",
        "model.fit(trainX, trainY, epochs=150, batch_size=5, verbose=2)\r\n",
        "\r\n",
        "# make predictions\r\n",
        "trainPredict = model.predict(trainX)\r\n",
        "testPredict = model.predict(testX)\r\n",
        "\r\n",
        "# invert predictions\r\n",
        "trainPredict = scaler.inverse_transform(trainPredict)\r\n",
        "trainY = scaler.inverse_transform([trainY])\r\n",
        "testPredict = scaler.inverse_transform(testPredict)\r\n",
        "testY = scaler.inverse_transform([testY])\r\n",
        "\r\n",
        "# calculate root mean squared error\r\n",
        "trainScore = math.sqrt(mean_squared_error(trainY[0], trainPredict[:,0]))\r\n",
        "print('Train Score: %.2f RMSE' % (trainScore))\r\n",
        "testScore = math.sqrt(mean_squared_error(testY[0], testPredict[:,0]))\r\n",
        "print('Test Score: %.2f RMSE' % (testScore))\r\n",
        "\r\n",
        "# shift train predictions for plotting\r\n",
        "trainPredictPlot = numpy.empty_like(dataset)\r\n",
        "trainPredictPlot[:, :] = numpy.nan\r\n",
        "trainPredictPlot[look_back:len(trainPredict)+look_back, :] = trainPredict\r\n",
        "\r\n",
        "# shift test predictions for plotting\r\n",
        "testPredictPlot = numpy.empty_like(dataset)\r\n",
        "testPredictPlot[:, :] = numpy.nan\r\n",
        "testPredictPlot[len(trainPredict)+(look_back*2)+1:len(dataset)-1, :] = testPredict\r\n",
        "\r\n",
        "# plot baseline and predictions\r\n",
        "plt.plot(scaler.inverse_transform(dataset))\r\n",
        "plt.plot(trainPredictPlot)\r\n",
        "plt.plot(testPredictPlot)\r\n",
        "plt.show()"
      ],
      "execution_count": 43,
      "outputs": [
        {
          "output_type": "stream",
          "text": [
            "Epoch 1/150\n",
            "19/19 - 2s - loss: 0.0362\n",
            "Epoch 2/150\n",
            "19/19 - 0s - loss: 0.0257\n",
            "Epoch 3/150\n",
            "19/19 - 0s - loss: 0.0184\n",
            "Epoch 4/150\n",
            "19/19 - 0s - loss: 0.0137\n",
            "Epoch 5/150\n",
            "19/19 - 0s - loss: 0.0112\n",
            "Epoch 6/150\n",
            "19/19 - 0s - loss: 0.0096\n",
            "Epoch 7/150\n",
            "19/19 - 0s - loss: 0.0091\n",
            "Epoch 8/150\n",
            "19/19 - 0s - loss: 0.0087\n",
            "Epoch 9/150\n",
            "19/19 - 0s - loss: 0.0084\n",
            "Epoch 10/150\n",
            "19/19 - 0s - loss: 0.0081\n",
            "Epoch 11/150\n",
            "19/19 - 0s - loss: 0.0078\n",
            "Epoch 12/150\n",
            "19/19 - 0s - loss: 0.0075\n",
            "Epoch 13/150\n",
            "19/19 - 0s - loss: 0.0073\n",
            "Epoch 14/150\n",
            "19/19 - 0s - loss: 0.0070\n",
            "Epoch 15/150\n",
            "19/19 - 0s - loss: 0.0067\n",
            "Epoch 16/150\n",
            "19/19 - 0s - loss: 0.0064\n",
            "Epoch 17/150\n",
            "19/19 - 0s - loss: 0.0061\n",
            "Epoch 18/150\n",
            "19/19 - 0s - loss: 0.0058\n",
            "Epoch 19/150\n",
            "19/19 - 0s - loss: 0.0055\n",
            "Epoch 20/150\n",
            "19/19 - 0s - loss: 0.0053\n",
            "Epoch 21/150\n",
            "19/19 - 0s - loss: 0.0050\n",
            "Epoch 22/150\n",
            "19/19 - 0s - loss: 0.0048\n",
            "Epoch 23/150\n",
            "19/19 - 0s - loss: 0.0045\n",
            "Epoch 24/150\n",
            "19/19 - 0s - loss: 0.0043\n",
            "Epoch 25/150\n",
            "19/19 - 0s - loss: 0.0041\n",
            "Epoch 26/150\n",
            "19/19 - 0s - loss: 0.0038\n",
            "Epoch 27/150\n",
            "19/19 - 0s - loss: 0.0036\n",
            "Epoch 28/150\n",
            "19/19 - 0s - loss: 0.0035\n",
            "Epoch 29/150\n",
            "19/19 - 0s - loss: 0.0033\n",
            "Epoch 30/150\n",
            "19/19 - 0s - loss: 0.0032\n",
            "Epoch 31/150\n",
            "19/19 - 0s - loss: 0.0030\n",
            "Epoch 32/150\n",
            "19/19 - 0s - loss: 0.0029\n",
            "Epoch 33/150\n",
            "19/19 - 0s - loss: 0.0028\n",
            "Epoch 34/150\n",
            "19/19 - 0s - loss: 0.0027\n",
            "Epoch 35/150\n",
            "19/19 - 0s - loss: 0.0025\n",
            "Epoch 36/150\n",
            "19/19 - 0s - loss: 0.0025\n",
            "Epoch 37/150\n",
            "19/19 - 0s - loss: 0.0024\n",
            "Epoch 38/150\n",
            "19/19 - 0s - loss: 0.0023\n",
            "Epoch 39/150\n",
            "19/19 - 0s - loss: 0.0023\n",
            "Epoch 40/150\n",
            "19/19 - 0s - loss: 0.0022\n",
            "Epoch 41/150\n",
            "19/19 - 0s - loss: 0.0022\n",
            "Epoch 42/150\n",
            "19/19 - 0s - loss: 0.0021\n",
            "Epoch 43/150\n",
            "19/19 - 0s - loss: 0.0021\n",
            "Epoch 44/150\n",
            "19/19 - 0s - loss: 0.0021\n",
            "Epoch 45/150\n",
            "19/19 - 0s - loss: 0.0021\n",
            "Epoch 46/150\n",
            "19/19 - 0s - loss: 0.0021\n",
            "Epoch 47/150\n",
            "19/19 - 0s - loss: 0.0020\n",
            "Epoch 48/150\n",
            "19/19 - 0s - loss: 0.0020\n",
            "Epoch 49/150\n",
            "19/19 - 0s - loss: 0.0020\n",
            "Epoch 50/150\n",
            "19/19 - 0s - loss: 0.0020\n",
            "Epoch 51/150\n",
            "19/19 - 0s - loss: 0.0020\n",
            "Epoch 52/150\n",
            "19/19 - 0s - loss: 0.0020\n",
            "Epoch 53/150\n",
            "19/19 - 0s - loss: 0.0020\n",
            "Epoch 54/150\n",
            "19/19 - 0s - loss: 0.0020\n",
            "Epoch 55/150\n",
            "19/19 - 0s - loss: 0.0020\n",
            "Epoch 56/150\n",
            "19/19 - 0s - loss: 0.0020\n",
            "Epoch 57/150\n",
            "19/19 - 0s - loss: 0.0020\n",
            "Epoch 58/150\n",
            "19/19 - 0s - loss: 0.0020\n",
            "Epoch 59/150\n",
            "19/19 - 0s - loss: 0.0020\n",
            "Epoch 60/150\n",
            "19/19 - 0s - loss: 0.0020\n",
            "Epoch 61/150\n",
            "19/19 - 0s - loss: 0.0020\n",
            "Epoch 62/150\n",
            "19/19 - 0s - loss: 0.0020\n",
            "Epoch 63/150\n",
            "19/19 - 0s - loss: 0.0020\n",
            "Epoch 64/150\n",
            "19/19 - 0s - loss: 0.0020\n",
            "Epoch 65/150\n",
            "19/19 - 0s - loss: 0.0020\n",
            "Epoch 66/150\n",
            "19/19 - 0s - loss: 0.0020\n",
            "Epoch 67/150\n",
            "19/19 - 0s - loss: 0.0020\n",
            "Epoch 68/150\n",
            "19/19 - 0s - loss: 0.0020\n",
            "Epoch 69/150\n",
            "19/19 - 0s - loss: 0.0020\n",
            "Epoch 70/150\n",
            "19/19 - 0s - loss: 0.0020\n",
            "Epoch 71/150\n",
            "19/19 - 0s - loss: 0.0020\n",
            "Epoch 72/150\n",
            "19/19 - 0s - loss: 0.0020\n",
            "Epoch 73/150\n",
            "19/19 - 0s - loss: 0.0020\n",
            "Epoch 74/150\n",
            "19/19 - 0s - loss: 0.0020\n",
            "Epoch 75/150\n",
            "19/19 - 0s - loss: 0.0020\n",
            "Epoch 76/150\n",
            "19/19 - 0s - loss: 0.0020\n",
            "Epoch 77/150\n",
            "19/19 - 0s - loss: 0.0020\n",
            "Epoch 78/150\n",
            "19/19 - 0s - loss: 0.0020\n",
            "Epoch 79/150\n",
            "19/19 - 0s - loss: 0.0020\n",
            "Epoch 80/150\n",
            "19/19 - 0s - loss: 0.0020\n",
            "Epoch 81/150\n",
            "19/19 - 0s - loss: 0.0020\n",
            "Epoch 82/150\n",
            "19/19 - 0s - loss: 0.0020\n",
            "Epoch 83/150\n",
            "19/19 - 0s - loss: 0.0020\n",
            "Epoch 84/150\n",
            "19/19 - 0s - loss: 0.0020\n",
            "Epoch 85/150\n",
            "19/19 - 0s - loss: 0.0020\n",
            "Epoch 86/150\n",
            "19/19 - 0s - loss: 0.0020\n",
            "Epoch 87/150\n",
            "19/19 - 0s - loss: 0.0020\n",
            "Epoch 88/150\n",
            "19/19 - 0s - loss: 0.0020\n",
            "Epoch 89/150\n",
            "19/19 - 0s - loss: 0.0020\n",
            "Epoch 90/150\n",
            "19/19 - 0s - loss: 0.0020\n",
            "Epoch 91/150\n",
            "19/19 - 0s - loss: 0.0020\n",
            "Epoch 92/150\n",
            "19/19 - 0s - loss: 0.0020\n",
            "Epoch 93/150\n",
            "19/19 - 0s - loss: 0.0020\n",
            "Epoch 94/150\n",
            "19/19 - 0s - loss: 0.0020\n",
            "Epoch 95/150\n",
            "19/19 - 0s - loss: 0.0020\n",
            "Epoch 96/150\n",
            "19/19 - 0s - loss: 0.0020\n",
            "Epoch 97/150\n",
            "19/19 - 0s - loss: 0.0021\n",
            "Epoch 98/150\n",
            "19/19 - 0s - loss: 0.0019\n",
            "Epoch 99/150\n",
            "19/19 - 0s - loss: 0.0020\n",
            "Epoch 100/150\n",
            "19/19 - 0s - loss: 0.0020\n",
            "Epoch 101/150\n",
            "19/19 - 0s - loss: 0.0020\n",
            "Epoch 102/150\n",
            "19/19 - 0s - loss: 0.0020\n",
            "Epoch 103/150\n",
            "19/19 - 0s - loss: 0.0020\n",
            "Epoch 104/150\n",
            "19/19 - 0s - loss: 0.0020\n",
            "Epoch 105/150\n",
            "19/19 - 0s - loss: 0.0020\n",
            "Epoch 106/150\n",
            "19/19 - 0s - loss: 0.0020\n",
            "Epoch 107/150\n",
            "19/19 - 0s - loss: 0.0020\n",
            "Epoch 108/150\n",
            "19/19 - 0s - loss: 0.0020\n",
            "Epoch 109/150\n",
            "19/19 - 0s - loss: 0.0020\n",
            "Epoch 110/150\n",
            "19/19 - 0s - loss: 0.0020\n",
            "Epoch 111/150\n",
            "19/19 - 0s - loss: 0.0020\n",
            "Epoch 112/150\n",
            "19/19 - 0s - loss: 0.0020\n",
            "Epoch 113/150\n",
            "19/19 - 0s - loss: 0.0020\n",
            "Epoch 114/150\n",
            "19/19 - 0s - loss: 0.0020\n",
            "Epoch 115/150\n",
            "19/19 - 0s - loss: 0.0020\n",
            "Epoch 116/150\n",
            "19/19 - 0s - loss: 0.0020\n",
            "Epoch 117/150\n",
            "19/19 - 0s - loss: 0.0020\n",
            "Epoch 118/150\n",
            "19/19 - 0s - loss: 0.0020\n",
            "Epoch 119/150\n",
            "19/19 - 0s - loss: 0.0020\n",
            "Epoch 120/150\n",
            "19/19 - 0s - loss: 0.0020\n",
            "Epoch 121/150\n",
            "19/19 - 0s - loss: 0.0020\n",
            "Epoch 122/150\n",
            "19/19 - 0s - loss: 0.0020\n",
            "Epoch 123/150\n",
            "19/19 - 0s - loss: 0.0020\n",
            "Epoch 124/150\n",
            "19/19 - 0s - loss: 0.0020\n",
            "Epoch 125/150\n",
            "19/19 - 0s - loss: 0.0020\n",
            "Epoch 126/150\n",
            "19/19 - 0s - loss: 0.0020\n",
            "Epoch 127/150\n",
            "19/19 - 0s - loss: 0.0020\n",
            "Epoch 128/150\n",
            "19/19 - 0s - loss: 0.0020\n",
            "Epoch 129/150\n",
            "19/19 - 0s - loss: 0.0020\n",
            "Epoch 130/150\n",
            "19/19 - 0s - loss: 0.0020\n",
            "Epoch 131/150\n",
            "19/19 - 0s - loss: 0.0020\n",
            "Epoch 132/150\n",
            "19/19 - 0s - loss: 0.0020\n",
            "Epoch 133/150\n",
            "19/19 - 0s - loss: 0.0020\n",
            "Epoch 134/150\n",
            "19/19 - 0s - loss: 0.0020\n",
            "Epoch 135/150\n",
            "19/19 - 0s - loss: 0.0020\n",
            "Epoch 136/150\n",
            "19/19 - 0s - loss: 0.0020\n",
            "Epoch 137/150\n",
            "19/19 - 0s - loss: 0.0020\n",
            "Epoch 138/150\n",
            "19/19 - 0s - loss: 0.0020\n",
            "Epoch 139/150\n",
            "19/19 - 0s - loss: 0.0020\n",
            "Epoch 140/150\n",
            "19/19 - 0s - loss: 0.0020\n",
            "Epoch 141/150\n",
            "19/19 - 0s - loss: 0.0020\n",
            "Epoch 142/150\n",
            "19/19 - 0s - loss: 0.0020\n",
            "Epoch 143/150\n",
            "19/19 - 0s - loss: 0.0020\n",
            "Epoch 144/150\n",
            "19/19 - 0s - loss: 0.0019\n",
            "Epoch 145/150\n",
            "19/19 - 0s - loss: 0.0020\n",
            "Epoch 146/150\n",
            "19/19 - 0s - loss: 0.0020\n",
            "Epoch 147/150\n",
            "19/19 - 0s - loss: 0.0020\n",
            "Epoch 148/150\n",
            "19/19 - 0s - loss: 0.0020\n",
            "Epoch 149/150\n",
            "19/19 - 0s - loss: 0.0020\n",
            "Epoch 150/150\n",
            "19/19 - 0s - loss: 0.0020\n",
            "Train Score: 22.83 RMSE\n",
            "Test Score: 48.40 RMSE\n"
          ],
          "name": "stdout"
        },
        {
          "output_type": "display_data",
          "data": {
            "image/png": "[encoded data removed]",
            "text/plain": [
              "<Figure size 432x288 with 1 Axes>"
            ]
          },
          "metadata": {
            "tags": [],
            "needs_background": "light"
          }
        }
      ]
    }
  ]
}