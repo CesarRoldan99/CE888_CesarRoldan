{
  "nbformat": 4,
  "nbformat_minor": 0,
  "metadata": {
    "accelerator": "GPU",
    "colab": {
      "name": "bank_classification.ipynb",
      "provenance": [],
      "authorship_tag": "ABX9TyPQLmTO30q1IdoPzpEqMEWe",
      "include_colab_link": true
    },
    "kernelspec": {
      "display_name": "Python 3",
      "name": "python3"
    }
  },
  "cells": [
    {
      "cell_type": "markdown",
      "metadata": {
        "id": "view-in-github",
        "colab_type": "text"
      },
      "source": [
        "<a href=\"https://colab.research.google.com/github/CesarRoldan99/CEE88_Cesar/blob/main/LAB3/bank_classification.ipynb\" target=\"_parent\"><img src=\"https://colab.research.google.com/assets/colab-badge.svg\" alt=\"Open In Colab\"/></a>"
      ]
    },
    {
      "cell_type": "code",
      "metadata": {
        "id": "fB-06y7tpotH"
      },
      "source": [
        "# Libraries.\r\n",
        "%matplotlib inline\r\n",
        "import matplotlib\r\n",
        "import numpy as np\r\n",
        "import matplotlib.pyplot as plt\r\n",
        "import pandas as pd\r\n",
        "import seaborn as sns\r\n",
        "\r\n",
        "from sklearn.svm import SVC\r\n",
        "from sklearn.tree import DecisionTreeRegressor\r\n",
        "from sklearn.ensemble import RandomForestClassifier, ExtraTreesClassifier\r\n",
        "from sklearn.model_selection import cross_val_score\r\n",
        "from sklearn.model_selection import GridSearchCV\r\n",
        "from sklearn.metrics import mean_squared_error as mse\r\n",
        "from sklearn.metrics import mean_absolute_error as mae\r\n",
        "from sklearn.metrics import f1_score as f1\r\n",
        "from sklearn.metrics import accuracy_score as acc\r\n",
        "from sklearn.metrics import make_scorer, confusion_matrix, classification_report\r\n",
        "from sklearn.dummy import DummyRegressor, DummyClassifier\r\n",
        "from sklearn.preprocessing import LabelEncoder\r\n",
        "from sklearn.model_selection import train_test_split"
      ],
      "execution_count": 4,
      "outputs": []
    },
    {
      "cell_type": "code",
      "metadata": {
        "id": "xGKLbXD8qc82",
        "colab": {
          "base_uri": "https://localhost:8080/"
        },
        "outputId": "f71eae36-9aa6-4c00-d24a-852e55a76253"
      },
      "source": [
        "# Loading the data.\r\n",
        "df = pd.read_csv(\"https://raw.githubusercontent.com/albanda/CE888/master/lab3/bank-additional-full.csv\", delimiter = \";\")\r\n",
        "df\r\n",
        "df.columns"
      ],
      "execution_count": 5,
      "outputs": [
        {
          "output_type": "execute_result",
          "data": {
            "text/plain": [
              "Index(['age', 'job', 'marital', 'education', 'default', 'housing', 'loan',\n",
              "       'contact', 'month', 'day_of_week', 'duration', 'campaign', 'pdays',\n",
              "       'previous', 'poutcome', 'emp.var.rate', 'cons.price.idx',\n",
              "       'cons.conf.idx', 'euribor3m', 'nr.employed', 'y'],\n",
              "      dtype='object')"
            ]
          },
          "metadata": {
            "tags": []
          },
          "execution_count": 5
        }
      ]
    },
    {
      "cell_type": "code",
      "metadata": {
        "id": "sCCbtV6SrGLj",
        "colab": {
          "base_uri": "https://localhost:8080/"
        },
        "outputId": "95d653f2-ea9c-40a0-b53e-17e2c6415f6b"
      },
      "source": [
        "# Splitting for features\r\n",
        "\r\n",
        "features = ['age', 'job', 'marital', 'education', 'default', 'housing', 'loan',\r\n",
        "            'contact', 'month', 'day_of_week', 'duration', 'campaign', 'pdays',\r\n",
        "            'previous', 'poutcome', 'emp.var.rate', 'cons.price.idx',\r\n",
        "            'cons.conf.idx', 'euribor3m', 'nr.employed']\r\n",
        "df[features].head()\r\n",
        "\r\n",
        "print(len(features))"
      ],
      "execution_count": 57,
      "outputs": [
        {
          "output_type": "stream",
          "text": [
            "20\n"
          ],
          "name": "stdout"
        }
      ]
    },
    {
      "cell_type": "code",
      "metadata": {
        "id": "rbIzZ2u_3SRk",
        "colab": {
          "base_uri": "https://localhost:8080/",
          "height": 195
        },
        "outputId": "bc7e3fce-154f-4a8a-ee1c-9d989fb25a93"
      },
      "source": [
        "# Splitting for labels\r\n",
        "\r\n",
        "outcomes = ['y']\r\n",
        "df[outcomes].head()"
      ],
      "execution_count": 7,
      "outputs": [
        {
          "output_type": "execute_result",
          "data": {
            "text/html": [
              "<div>\n",
              "<style scoped>\n",
              "    .dataframe tbody tr th:only-of-type {\n",
              "        vertical-align: middle;\n",
              "    }\n",
              "\n",
              "    .dataframe tbody tr th {\n",
              "        vertical-align: top;\n",
              "    }\n",
              "\n",
              "    .dataframe thead th {\n",
              "        text-align: right;\n",
              "    }\n",
              "</style>\n",
              "<table border=\"1\" class=\"dataframe\">\n",
              "  <thead>\n",
              "    <tr style=\"text-align: right;\">\n",
              "      <th></th>\n",
              "      <th>y</th>\n",
              "    </tr>\n",
              "  </thead>\n",
              "  <tbody>\n",
              "    <tr>\n",
              "      <th>0</th>\n",
              "      <td>no</td>\n",
              "    </tr>\n",
              "    <tr>\n",
              "      <th>1</th>\n",
              "      <td>no</td>\n",
              "    </tr>\n",
              "    <tr>\n",
              "      <th>2</th>\n",
              "      <td>no</td>\n",
              "    </tr>\n",
              "    <tr>\n",
              "      <th>3</th>\n",
              "      <td>no</td>\n",
              "    </tr>\n",
              "    <tr>\n",
              "      <th>4</th>\n",
              "      <td>no</td>\n",
              "    </tr>\n",
              "  </tbody>\n",
              "</table>\n",
              "</div>"
            ],
            "text/plain": [
              "    y\n",
              "0  no\n",
              "1  no\n",
              "2  no\n",
              "3  no\n",
              "4  no"
            ]
          },
          "metadata": {
            "tags": []
          },
          "execution_count": 7
        }
      ]
    },
    {
      "cell_type": "code",
      "metadata": {
        "id": "v7q8o-A837sj",
        "colab": {
          "base_uri": "https://localhost:8080/"
        },
        "outputId": "bc673705-6310-4e33-d25d-d148bf7cdc00"
      },
      "source": [
        "# Drop Nans\r\n",
        "\r\n",
        "print(\"Instances without dropping NaNs: \", len(df))\r\n",
        "df = df.dropna(axis=0)\r\n",
        "print(\"Instances with dropped NaNs: \", len(df))"
      ],
      "execution_count": 8,
      "outputs": [
        {
          "output_type": "stream",
          "text": [
            "Instances without dropping NaNs:  41188\n",
            "Instances with dropped NaNs:  41188\n"
          ],
          "name": "stdout"
        }
      ]
    },
    {
      "cell_type": "code",
      "metadata": {
        "id": "YpOBLKW36Kqm",
        "colab": {
          "base_uri": "https://localhost:8080/"
        },
        "outputId": "629d1246-2d04-48b8-cdb7-ec6fe68bf716"
      },
      "source": [
        "# Using Label Encoder on the label\r\n",
        "\r\n",
        "x_df = df[features].copy()\r\n",
        "y_df = df[outcomes].copy()\r\n",
        "\r\n",
        "y_df = y_df.apply(LabelEncoder().fit_transform)\r\n",
        "print(y_df)\r\n"
      ],
      "execution_count": 9,
      "outputs": [
        {
          "output_type": "stream",
          "text": [
            "       y\n",
            "0      0\n",
            "1      0\n",
            "2      0\n",
            "3      0\n",
            "4      0\n",
            "...   ..\n",
            "41183  1\n",
            "41184  0\n",
            "41185  0\n",
            "41186  1\n",
            "41187  0\n",
            "\n",
            "[41188 rows x 1 columns]\n"
          ],
          "name": "stdout"
        }
      ]
    },
    {
      "cell_type": "code",
      "metadata": {
        "id": "1AwiiXUrwd-p",
        "colab": {
          "base_uri": "https://localhost:8080/"
        },
        "outputId": "3bdf900b-4dc2-4bee-f7df-004e0d91e147"
      },
      "source": [
        "# Convert to dummies.\r\n",
        "\r\n",
        "df_dummies = pd.get_dummies(x_df)\r\n",
        "df_dummies=df_dummies.drop(columns=\"duration\")\r\n",
        "df_dummies.head()\r\n",
        "X = df_dummies.values\r\n",
        "Y = y_df.values\r\n",
        "Y = Y.T[0]\r\n",
        "print(X)\r\n",
        "print(Y)\r\n",
        "\r\n",
        "countY=0\r\n",
        "countN=0\r\n",
        "for i in Y:\r\n",
        "    if i == 1:\r\n",
        "        countY+=1\r\n",
        "    else:\r\n",
        "        countN+=1\r\n",
        "\r\n",
        "\r\n",
        "print(countY)\r\n",
        "print(countY/len(Y))"
      ],
      "execution_count": 56,
      "outputs": [
        {
          "output_type": "stream",
          "text": [
            "[[ 56.   1. 999. ...   0.   1.   0.]\n",
            " [ 57.   1. 999. ...   0.   1.   0.]\n",
            " [ 37.   1. 999. ...   0.   1.   0.]\n",
            " ...\n",
            " [ 56.   2. 999. ...   0.   1.   0.]\n",
            " [ 44.   1. 999. ...   0.   1.   0.]\n",
            " [ 74.   3. 999. ...   1.   0.   0.]]\n",
            "[0 0 0 ... 0 1 0]\n",
            "4640\n",
            "0.11265417111780131\n"
          ],
          "name": "stdout"
        }
      ]
    },
    {
      "cell_type": "code",
      "metadata": {
        "id": "8TrF463RNbGE",
        "colab": {
          "base_uri": "https://localhost:8080/",
          "height": 265
        },
        "outputId": "bc8646c3-d656-4c8f-cef9-cea0dc66cae8"
      },
      "source": [
        "# Plotting the histogram for labels\r\n",
        "\r\n",
        "sns_plot = sns.histplot(Y, kde=False)"
      ],
      "execution_count": 11,
      "outputs": [
        {
          "output_type": "display_data",
          "data": {
            "image/png": "[encoded data removed]",
            "text/plain": [
              "<Figure size 432x288 with 1 Axes>"
            ]
          },
          "metadata": {
            "tags": [],
            "needs_background": "light"
          }
        }
      ]
    },
    {
      "cell_type": "code",
      "metadata": {
        "id": "fgoLx41AOHpx",
        "colab": {
          "base_uri": "https://localhost:8080/"
        },
        "outputId": "bdfa4455-cd53-4a64-b090-4dc2ac673fe9"
      },
      "source": [
        "# Using DummyClassifier\r\n",
        "\r\n",
        "dummy_clf = DummyClassifier(strategy = \"stratified\")\r\n",
        "dummy_clf.fit(X, Y)\r\n",
        "print(\"Dummy F1: %.2f\"  % f1(Y, dummy_clf.predict(X)))\r\n"
      ],
      "execution_count": 12,
      "outputs": [
        {
          "output_type": "stream",
          "text": [
            "Dummy F1: 0.11\n"
          ],
          "name": "stdout"
        }
      ]
    },
    {
      "cell_type": "code",
      "metadata": {
        "id": "PTrF24gZj9Au",
        "colab": {
          "base_uri": "https://localhost:8080/"
        },
        "outputId": "8f1c6257-3c4c-4cb2-f8f1-6003663bdda9"
      },
      "source": [
        "X_train, X_test, y_train, y_test = train_test_split(\r\n",
        "...     X, Y, test_size = 0.2, random_state = 50)\r\n",
        "\r\n",
        "print(X_train)\r\n",
        "print(X_test)\r\n",
        "print(y_train)\r\n",
        "print(y_test)"
      ],
      "execution_count": 13,
      "outputs": [
        {
          "output_type": "stream",
          "text": [
            "[[ 32.   2. 999. ...   0.   1.   0.]\n",
            " [ 31.   1. 999. ...   0.   1.   0.]\n",
            " [ 28.   2. 999. ...   0.   1.   0.]\n",
            " ...\n",
            " [ 39.   1. 999. ...   0.   1.   0.]\n",
            " [ 60.   1. 999. ...   0.   1.   0.]\n",
            " [ 53.   2. 999. ...   0.   1.   0.]]\n",
            "[[ 40.   2. 999. ...   0.   1.   0.]\n",
            " [ 42.   6. 999. ...   0.   1.   0.]\n",
            " [ 35.   1. 999. ...   0.   1.   0.]\n",
            " ...\n",
            " [ 31.   3. 999. ...   0.   1.   0.]\n",
            " [ 35.   1. 999. ...   0.   1.   0.]\n",
            " [ 31.   2. 999. ...   0.   1.   0.]]\n",
            "[1 0 0 ... 0 0 1]\n",
            "[0 0 0 ... 0 0 0]\n"
          ],
          "name": "stdout"
        }
      ]
    },
    {
      "cell_type": "code",
      "metadata": {
        "id": "7rSpNFSsmmXs",
        "colab": {
          "base_uri": "https://localhost:8080/"
        },
        "outputId": "717c12cb-e71f-42d3-83d0-353827b1d9f2"
      },
      "source": [
        "# Random forest classifier\r\n",
        "clf = RandomForestClassifier(n_estimators=100, max_depth=10, random_state=60)\r\n",
        "scores = cross_val_score(clf, X_train, y_train , cv=10, scoring=make_scorer(f1))\r\n",
        "print(\"F1: %.2f +/- %.2f\" % (scores.mean(),scores.std()))\r\n"
      ],
      "execution_count": 61,
      "outputs": [
        {
          "output_type": "stream",
          "text": [
            "F1: 0.33 +/- 0.02\n"
          ],
          "name": "stdout"
        }
      ]
    },
    {
      "cell_type": "code",
      "metadata": {
        "id": "C8tzbOsD_zS7"
      },
      "source": [
        "# Using GridSearchCV\r\n",
        "clf_grid = RandomForestClassifier()\r\n",
        "parameters = [{'n_estimators': [100,1000], 'max_depth': [3,4,5]}]\r\n",
        "grid_search = GridSearchCV(estimator= clf_grid, param_grid = parameters, scoring = 'f1', cv = 10)\r\n",
        "grid_search = grid_search.fit(X_train, y_train)\r\n"
      ],
      "execution_count": 15,
      "outputs": []
    },
    {
      "cell_type": "code",
      "metadata": {
        "id": "Mtwt0vq-EGBB",
        "colab": {
          "base_uri": "https://localhost:8080/"
        },
        "outputId": "0aeccdad-c4b3-49cb-f9ac-78c429b4eaae"
      },
      "source": [
        "f1_score = grid_search.best_score_\r\n",
        "\r\n",
        "print(\"The f1 for predicting test data for our model is : {0}% \".format(f1_score))"
      ],
      "execution_count": 16,
      "outputs": [
        {
          "output_type": "stream",
          "text": [
            "The f1 for predicting test data for our model is : 0.2831421454850697% \n"
          ],
          "name": "stdout"
        }
      ]
    },
    {
      "cell_type": "code",
      "metadata": {
        "colab": {
          "base_uri": "https://localhost:8080/"
        },
        "id": "vPt7svbBv8L1",
        "outputId": "66a71689-e3cd-46f3-d04b-5ae792a9c2e7"
      },
      "source": [
        "best_params= grid_search.best_params_\r\n",
        "print(\"The f1 for predicting test data for our model is :  \", best_params)"
      ],
      "execution_count": 18,
      "outputs": [
        {
          "output_type": "stream",
          "text": [
            "The f1 for predicting test data for our model is :   {'max_depth': 5, 'n_estimators': 100}\n"
          ],
          "name": "stdout"
        }
      ]
    },
    {
      "cell_type": "code",
      "metadata": {
        "colab": {
          "base_uri": "https://localhost:8080/",
          "height": 572
        },
        "id": "0XS1Pi4jwHbi",
        "outputId": "885eebe1-43a8-4532-db65-0ae8c91616d8"
      },
      "source": [
        "# Best feature.\r\n",
        "clf = RandomForestClassifier(n_estimators=100, max_depth=10, random_state=60)\r\n",
        "clf.fit(X_train, y_train)\r\n",
        "print(\"F1: %.2f +/- %.2f\" % (scores.mean(),scores.std()))\r\n",
        "\r\n",
        "importances = clf.feature_importances_\r\n",
        "std = np.std([ tree.feature_importances_ for tree in clf.estimators_],\r\n",
        "             axis=0)\r\n",
        "indices = np.argsort(importances)[::-1]\r\n",
        "indices = indices[: 10]\r\n",
        "\r\n",
        "# Print the feature ranking\r\n",
        "print(\"Feature ranking:\")\r\n",
        "\r\n",
        "for f in range(0,10):\r\n",
        "    print(\"%d. %s (%f)\" % (f+1, df_dummies.columns[indices[f]],  importances[indices[f]]))\r\n",
        "\r\n",
        "# Plot the feature importances of the forest\r\n",
        "fig = plt.figure()\r\n",
        "plt.title(\"Feature importances\")\r\n",
        "plt.bar(range(10), importances[indices],\r\n",
        "       color=\"r\", yerr=std[indices], align=\"center\")\r\n",
        "plt.xticks(range(10), np.array(df_dummies.columns)[indices])\r\n",
        "plt.xlim([-1, 10])\r\n",
        "plt.ylim([0, None])\r\n",
        "\r\n",
        "\r\n",
        "fig.set_size_inches(15, 8)"
      ],
      "execution_count": 62,
      "outputs": [
        {
          "output_type": "stream",
          "text": [
            "F1: 0.33 +/- 0.02\n",
            "Feature ranking:\n",
            "1. euribor3m (0.169269)\n",
            "2. nr.employed (0.130547)\n",
            "3. poutcome_success (0.082475)\n",
            "4. pdays (0.075670)\n",
            "5. emp.var.rate (0.072939)\n",
            "6. cons.conf.idx (0.060606)\n",
            "7. cons.price.idx (0.049630)\n",
            "8. age (0.045753)\n",
            "9. previous (0.032844)\n",
            "10. campaign (0.018278)\n"
          ],
          "name": "stdout"
        },
        {
          "output_type": "display_data",
          "data": {
            "image/png": "[encoded data removed]",
            "text/plain": [
              "<Figure size 1080x576 with 1 Axes>"
            ]
          },
          "metadata": {
            "tags": [],
            "needs_background": "light"
          }
        }
      ]
    },
    {
      "cell_type": "code",
      "metadata": {
        "colab": {
          "base_uri": "https://localhost:8080/"
        },
        "id": "qeFzyD9V23HK",
        "outputId": "e8b352dd-a702-467b-8f0f-7e9bbaa0ec68"
      },
      "source": [
        "# Generalization error\r\n",
        "clf_grid.fit(X_train,y_train)\r\n",
        "print(\"Generalization error f1= : %.2f\" % f1(y_test, clf_grid.predict(X_test)) )"
      ],
      "execution_count": 50,
      "outputs": [
        {
          "output_type": "stream",
          "text": [
            "Generalization error f1= : 0.38\n"
          ],
          "name": "stdout"
        }
      ]
    }
  ]
}