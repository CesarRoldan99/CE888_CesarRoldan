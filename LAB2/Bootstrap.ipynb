{
  "nbformat": 4,
  "nbformat_minor": 0,
  "metadata": {
    "colab": {
      "name": "Copia de bootstrap.ipynb",
      "provenance": [],
      "collapsed_sections": [],
      "include_colab_link": true
    },
    "kernelspec": {
      "display_name": "Python 3",
      "language": "python",
      "name": "python3"
    },
    "language_info": {
      "codemirror_mode": {
        "name": "ipython",
        "version": 3
      },
      "file_extension": ".py",
      "mimetype": "text/x-python",
      "name": "python",
      "nbconvert_exporter": "python",
      "pygments_lexer": "ipython3",
      "version": "3.7.6"
    },
    "pycharm": {
      "stem_cell": {
        "cell_type": "raw",
        "metadata": {
          "collapsed": false
        },
        "source": []
      }
    },
    "accelerator": "GPU"
  },
  "cells": [
    {
      "cell_type": "markdown",
      "metadata": {
        "id": "view-in-github",
        "colab_type": "text"
      },
      "source": [
        "<a href=\"https://colab.research.google.com/github/CesarRoldan99/CEE88_Cesar/blob/main/LAB2/Bootstrap.ipynb\" target=\"_parent\"><img src=\"https://colab.research.google.com/assets/colab-badge.svg\" alt=\"Open In Colab\"/></a>"
      ]
    },
    {
      "cell_type": "markdown",
      "metadata": {
        "id": "nCi_99yMYIb1"
      },
      "source": [
        "In this notebook you'll create your own bootstrap function following the bootstrap algorithm (check the lecture notes!)"
      ]
    },
    {
      "cell_type": "code",
      "metadata": {
        "id": "LY5zujI2YC37",
        "pycharm": {
          "name": "#%%# Imports\n"
        }
      },
      "source": [
        "import matplotlib\n",
        "import pandas as pd\n",
        "import seaborn as sns\n",
        "import numpy as np\n",
        "import math "
      ],
      "execution_count": 4,
      "outputs": []
    },
    {
      "cell_type": "code",
      "metadata": {
        "id": "Eqkwj4SMY38t",
        "colab": {
          "base_uri": "https://localhost:8080/"
        },
        "outputId": "b57a4b6a-9d5f-49ca-b6a9-6e1a2473f38b"
      },
      "source": [
        "# Load the data\n",
        "df = pd.read_csv('https://raw.githubusercontent.com/albanda/CE888/master/lab2%20-%20bootstrap/customers.csv')\n",
        "data = df.values.T[1]"
      ],
      "execution_count": null,
      "outputs": [
        {
          "output_type": "stream",
          "text": [
            "9.214285714285714\n"
          ],
          "name": "stdout"
        }
      ]
    },
    {
      "cell_type": "code",
      "metadata": {
        "id": "Gxvc_bScYC4H",
        "pycharm": {
          "name": "#%%\n"
        }
      },
      "source": [
        "# Checking the notes from the lecture, create here your own bootstrap function:\n",
        "# 1. Sample from the input array x to create an array of samples of shape (n_bootstraps, sample_size)\n",
        "# Hint: Check the function random.choice() on Numpy\n",
        "# 2. Calculate and save the mean of the array (this is \"data_mean\" that is returned by the function)\n",
        "# 3. Calculate the mean from each bootstrap (i.e., row) and store it.\n",
        "# (This should be an array of n_bootstraps values)\n",
        "# 4. Calculate the lower and upper bounds for a 95% CI (hint: check the percentile function on Numpy)\n",
        "# 5. Return data_mean, and the lower and upper bounds of your interval\n",
        "\n",
        "def bootstrap_mean(x, sample_size, n_bootstraps):\n",
        "    a=np.empty((n_bootstraps,sample_size))  # Empty matrix n_boots. rows, sample_size columns\n",
        "    data_mean=np.empty((1,n_bootstraps))        # Empty array 1 row, n_boots. columns\n",
        "  \n",
        "    for i in range(n_bootstraps):\n",
        "        a[i]=np.random.choice(x,sample_size)    # Filling array a with bootstraps.\n",
        "        data_mean[0,i]=int(np.mean(a[i]))   # Forming array with means.\n",
        "  \n",
        "    data_mean.sort()              # Sorting means within array.  \n",
        "    lower=np.percentile(data_mean,2.5)        # Lower boundary.\n",
        "    upper=np.percentile(data_mean,97.5)       # Upper boundary.\n",
        "\n",
        "    data_mean=np.mean(data_mean)      # Mean of array data_mean\n",
        "    return data_mean, lower, upper\n"
      ],
      "execution_count": null,
      "outputs": []
    },
    {
      "cell_type": "code",
      "metadata": {
        "id": "AN7sEOcMYC4P",
        "pycharm": {
          "name": "#%%\n"
        },
        "colab": {
          "base_uri": "https://localhost:8080/",
          "height": 453
        },
        "outputId": "d665b5d1-d31a-4088-edd6-f364e8b1af45"
      },
      "source": [
        "# Call your bootstrap function and plot the results\n",
        "\n",
        "boots = []\n",
        "for i in range(100, 50000, 1000):\n",
        "    boot = bootstrap_mean(data, data.shape[0], i)\n",
        "    boots.append([i, boot[0], \"mean\"])\n",
        "    boots.append([i, boot[1], \"lower\"])\n",
        "    boots.append([i, boot[2], \"upper\"])\n",
        "\n",
        "\n",
        "df_boot = pd.DataFrame(boots, columns=['Bootstrap Iterations', 'Mean', \"Value\"])\n",
        "\n",
        "sns_plot = sns.lmplot(df_boot.columns[0], df_boot.columns[1], data=df_boot, fit_reg=False, hue=\"Value\")\n",
        "\n",
        "sns_plot.axes[0, 0].set_ylim(0)\n",
        "sns_plot.axes[0, 0].set_xlim(0, 100000)\n"
      ],
      "execution_count": null,
      "outputs": [
        {
          "output_type": "stream",
          "text": [
            "/usr/local/lib/python3.6/dist-packages/seaborn/_decorators.py:43: FutureWarning: Pass the following variables as keyword args: x, y. From version 0.12, the only valid positional argument will be `data`, and passing other arguments without an explicit keyword will result in an error or misinterpretation.\n",
            "  FutureWarning\n"
          ],
          "name": "stderr"
        },
        {
          "output_type": "execute_result",
          "data": {
            "text/plain": [
              "(0.0, 100000.0)"
            ]
          },
          "metadata": {
            "tags": []
          },
          "execution_count": 13
        },
        {
          "output_type": "display_data",
          "data": {
            "image/png": "[encoded data removed]",
            "text/plain": [
              "<Figure size 431.975x360 with 1 Axes>"
            ]
          },
          "metadata": {
            "tags": []
          }
        }
      ]
    },
    {
      "cell_type": "markdown",
      "metadata": {
        "id": "MjtP4e2_YC4V"
      },
      "source": [
        "\n",
        "Now, modify the bootstrap function you created above so that you can pass your desired confidence interval as a parameter.\n",
        "\n"
      ]
    },
    {
      "cell_type": "code",
      "metadata": {
        "id": "3K9j0FuGYhHs"
      },
      "source": [
        "def bootstrap_mean_ci(sample, sample_size, n_bootstraps, ci): # ci in percentage\n",
        "    a=np.empty((n_bootstraps, sample_size))   # Empty matrix n_boots. rows, sample_size columns\n",
        "    data_mean=np.empty((1, n_bootstraps)) # Empty array 1 row, n_boots. columns\n",
        "    for i in range (n_bootstraps):\n",
        "        a[i]=np.random.choice(sample, sample_size) # Filling array a with bootstraps.\n",
        "        data_mean[0,i]=int(np.mean(a[i]))   # Forming array with means.\n",
        "    \n",
        "    data_mean.sort()  # Sorting means within array.\n",
        "    NumCI=(100-ci)/2  # Percentage of removal from array of means.\n",
        "\n",
        "    lower=np.percentile(data_mean,NumCI) # Lower boundary.\n",
        "    upper=np.percentile(data_mean,(100-NumCI)) # Upper boundary.\n",
        "\n",
        "    data_mean=np.mean(data_mean) # Mean of array data_mean\n",
        "\n",
        "    return data_mean,lower,upper"
      ],
      "execution_count": 7,
      "outputs": []
    },
    {
      "cell_type": "code",
      "metadata": {
        "id": "uDnjq08GYl-C",
        "colab": {
          "base_uri": "https://localhost:8080/",
          "height": 453
        },
        "outputId": "883ed2ac-8fc4-4b23-cc16-59cb50d7f9b6"
      },
      "source": [
        "boots = []\n",
        "for i in range(100, 50000, 1000):\n",
        "    boot = bootstrap_mean_ci(data, data.shape[0], i, 80)\n",
        "    boots.append([i, boot[0], \"mean\"])\n",
        "    boots.append([i, boot[1], \"lower\"])\n",
        "    boots.append([i, boot[2], \"upper\"])\n",
        "\n",
        "df_boot = pd.DataFrame(boots, columns=['Boostrap Iterations', 'Mean', \"Value\"])\n",
        "sns_plot = sns.lmplot(df_boot.columns[0], df_boot.columns[1], data=df_boot, fit_reg=False, hue=\"Value\")\n",
        "\n",
        "sns_plot.axes[0, 0].set_ylim(0,)\n",
        "sns_plot.axes[0, 0].set_xlim(0, 100000)\n",
        "\n",
        "#sns_plot.savefig(\"bootstrap_confidence_80.pdf\", bbox_inches='tight')\n"
      ],
      "execution_count": null,
      "outputs": [
        {
          "output_type": "stream",
          "text": [
            "/usr/local/lib/python3.6/dist-packages/seaborn/_decorators.py:43: FutureWarning: Pass the following variables as keyword args: x, y. From version 0.12, the only valid positional argument will be `data`, and passing other arguments without an explicit keyword will result in an error or misinterpretation.\n",
            "  FutureWarning\n"
          ],
          "name": "stderr"
        },
        {
          "output_type": "execute_result",
          "data": {
            "text/plain": [
              "(0.0, 100000.0)"
            ]
          },
          "metadata": {
            "tags": []
          },
          "execution_count": 15
        },
        {
          "output_type": "display_data",
          "data": {
            "image/png": "[encoded data removed]",
            "text/plain": [
              "<Figure size 431.975x360 with 1 Axes>"
            ]
          },
          "metadata": {
            "tags": []
          }
        }
      ]
    },
    {
      "cell_type": "markdown",
      "metadata": {
        "id": "qjNgXW6wdd7r"
      },
      "source": [
        "# Vehicles dataset\n",
        "\n",
        "Now let's work on a different dataset, which is stored in the vehicles.csv file.\n"
      ]
    },
    {
      "cell_type": "code",
      "metadata": {
        "id": "avWv4ipFdpka"
      },
      "source": [
        "# Load and visualise the vehicles dataset\n",
        "# To load the dataset: https://neptune.ai/blog/google-colab-dealing-with-files (check section \"Load individual files directly from GitHub\")\n",
        "\n",
        "\n",
        "# Note that the current and new fleets are in different columns and have different lengths, so bear this in mind when you're plotting.\n",
        "# You can create separate scatterplots for the two fleets, as you would with the histograms, \n",
        "# or plot them both in one plot (but not one against the other).\n",
        "# Note: you can add more cells as needed to organise your code and your plots\n"
      ],
      "execution_count": 2,
      "outputs": []
    },
    {
      "cell_type": "code",
      "metadata": {
        "colab": {
          "base_uri": "https://localhost:8080/",
          "height": 195
        },
        "id": "rCR1EQnuiz0k",
        "outputId": "effe38ef-d602-4d8d-fe2b-7746ec06a2c7"
      },
      "source": [
        "# Reading data.\r\n",
        "dfVehicles = pd.read_csv('https://raw.githubusercontent.com/albanda/CE888/master/lab2%20-%20bootstrap/vehicles.csv')\r\n",
        "dfVehicles.head()\r\n"
      ],
      "execution_count": 5,
      "outputs": [
        {
          "output_type": "execute_result",
          "data": {
            "text/html": [
              "<div>\n",
              "<style scoped>\n",
              "    .dataframe tbody tr th:only-of-type {\n",
              "        vertical-align: middle;\n",
              "    }\n",
              "\n",
              "    .dataframe tbody tr th {\n",
              "        vertical-align: top;\n",
              "    }\n",
              "\n",
              "    .dataframe thead th {\n",
              "        text-align: right;\n",
              "    }\n",
              "</style>\n",
              "<table border=\"1\" class=\"dataframe\">\n",
              "  <thead>\n",
              "    <tr style=\"text-align: right;\">\n",
              "      <th></th>\n",
              "      <th>Current fleet</th>\n",
              "      <th>New Fleet</th>\n",
              "    </tr>\n",
              "  </thead>\n",
              "  <tbody>\n",
              "    <tr>\n",
              "      <th>0</th>\n",
              "      <td>18</td>\n",
              "      <td>24.0</td>\n",
              "    </tr>\n",
              "    <tr>\n",
              "      <th>1</th>\n",
              "      <td>15</td>\n",
              "      <td>27.0</td>\n",
              "    </tr>\n",
              "    <tr>\n",
              "      <th>2</th>\n",
              "      <td>18</td>\n",
              "      <td>27.0</td>\n",
              "    </tr>\n",
              "    <tr>\n",
              "      <th>3</th>\n",
              "      <td>16</td>\n",
              "      <td>25.0</td>\n",
              "    </tr>\n",
              "    <tr>\n",
              "      <th>4</th>\n",
              "      <td>17</td>\n",
              "      <td>31.0</td>\n",
              "    </tr>\n",
              "  </tbody>\n",
              "</table>\n",
              "</div>"
            ],
            "text/plain": [
              "   Current fleet  New Fleet\n",
              "0             18       24.0\n",
              "1             15       27.0\n",
              "2             18       27.0\n",
              "3             16       25.0\n",
              "4             17       31.0"
            ]
          },
          "metadata": {
            "tags": []
          },
          "execution_count": 5
        }
      ]
    },
    {
      "cell_type": "code",
      "metadata": {
        "colab": {
          "base_uri": "https://localhost:8080/",
          "height": 268
        },
        "id": "8SOFyrr1jbrJ",
        "outputId": "761c0e52-bdf5-45cf-ad92-52d5c31ed88c"
      },
      "source": [
        "# Plotting the data\r\n",
        "sns.scatterplot(data=dfVehicles)\r\n",
        "sns.set(style=\"darkgrid\")"
      ],
      "execution_count": null,
      "outputs": [
        {
          "output_type": "display_data",
          "data": {
            "image/png": "[encoded data removed]",
            "text/plain": [
              "<Figure size 432x288 with 1 Axes>"
            ]
          },
          "metadata": {
            "tags": []
          }
        }
      ]
    },
    {
      "cell_type": "markdown",
      "metadata": {
        "id": "B5d0tXDpIEj8"
      },
      "source": [
        "## Compare the two fleets\r\n",
        "\r\n",
        "The business analysts come up a comparison algorithm that requires the upper and lower bounds for the mean in order to say which fleet is better.\r\n",
        "1. Calculate the mean of both samples.\r\n",
        "2. Using the bootstrap function that you created:\r\n",
        "    - Construct the 95% CI of the mean of the current fleet.\r\n",
        "    - Construct the 95% CI of the mean of the new fleet.\r\n",
        "    - Are they comparable? (i.e., is one better than the other?) -- you can do this with a permutation test (check the lecture notes!)"
      ]
    },
    {
      "cell_type": "code",
      "metadata": {
        "id": "po4mp6zRHC0m",
        "colab": {
          "base_uri": "https://localhost:8080/"
        },
        "outputId": "c0a01018-c152-4546-db11-4d578cd36c4b"
      },
      "source": [
        "# 1. Mean of both samples\n",
        "print(\"The mean of the Current Fleet: \", np.mean(dfVehicles[\"Current fleet\"]))      # Current fleet's mean\n",
        "print(\"The mean of the New Fleet: \", np.mean(dfVehicles[\"New Fleet\"]))      # New fleet's mean"
      ],
      "execution_count": null,
      "outputs": [
        {
          "output_type": "stream",
          "text": [
            "The mean of the Current Fleet:  20.14457831325301\n",
            "The mean of the New Fleet:  30.481012658227847\n"
          ],
          "name": "stdout"
        }
      ]
    },
    {
      "cell_type": "code",
      "metadata": {
        "colab": {
          "base_uri": "https://localhost:8080/"
        },
        "id": "-zqTuNR_nFIt",
        "outputId": "4a4fc247-584b-4108-e07f-fafe47622bf0"
      },
      "source": [
        "# 2. Bootstrapping\r\n",
        "\r\n",
        "NF=[]\r\n",
        "CF=[]\r\n",
        "for i in dfVehicles[\"New Fleet\"]:       # Eliminating NaNs, Not a number. As the samples have different lengh. New fleet is shorter.\r\n",
        "    if math.isnan(i)== False:           # Checking if the value i is a NaN value, if not:\r\n",
        "        NF.append(i)                    # Append value i to list NF\r\n",
        "\r\n",
        "for j in dfVehicles[\"Current fleet\"]:\r\n",
        "    CF.append(j)\r\n",
        "\r\n",
        "CurrentFleet_mean=bootstrap_mean_ci(dfVehicles[\"Current fleet\"], len(dfVehicles), 10000, 92 )  # Bootsrapping Current Fleet, n=1000, ci=95\r\n",
        "NewFleet_mean=bootstrap_mean_ci(NF, len(NF), 10000, 60 )        # Bootsrapping New Fleet, n=1000, ci=95\r\n",
        "\r\n",
        "print(CurrentFleet_mean)\r\n",
        "print(NewFleet_mean)\r\n",
        "\r\n",
        "print(\"The mean of the Current Fleet: \", CurrentFleet_mean[0])      # Current fleet's mean\r\n",
        "print(\"The mean of the Current Fleet: \", NewFleet_mean[0])      # Current fleet's mean"
      ],
      "execution_count": 19,
      "outputs": [
        {
          "output_type": "stream",
          "text": [
            "(19.6545, 19.0, 20.0)\n",
            "(29.997, 29.0, 31.0)\n",
            "The mean of the Current Fleet:  19.6545\n",
            "The mean of the Current Fleet:  29.997\n"
          ],
          "name": "stdout"
        }
      ]
    },
    {
      "cell_type": "code",
      "metadata": {
        "colab": {
          "base_uri": "https://localhost:8080/"
        },
        "id": "lIN9pB3MRMPV",
        "outputId": "c88fbdb1-b06b-4a13-bc71-bdefb3501295"
      },
      "source": [
        "def bootstrap_std_ci(sample, sample_size, n_bootstraps, ci): # ci in percentage\r\n",
        "    a=np.empty((n_bootstraps, sample_size))   # Empty matrix n_boots. rows, sample_size columns\r\n",
        "    data_std=np.empty((1, n_bootstraps)) # Empty array 1 row, n_boots. columns\r\n",
        "    for i in range (n_bootstraps):\r\n",
        "        a[i]=np.random.choice(sample, sample_size) # Filling array a with bootstraps.\r\n",
        "        data_std[0,i]=int(np.std(a[i]))   # Forming array with means.\r\n",
        "    \r\n",
        "    data_std.sort()  # Sorting means within array.\r\n",
        "    NumCI=(100-ci)/2  # Percentage of removal from array of means.\r\n",
        "\r\n",
        "    lower=np.percentile(data_std,NumCI) # Lower boundary.\r\n",
        "    upper=np.percentile(data_std,(100-NumCI)) # Upper boundary.\r\n",
        "\r\n",
        "    print(data_std)\r\n",
        "\r\n",
        "    data_std=np.std(data_std) # Mean of array data_mean\r\n",
        "\r\n",
        "    return data_std,lower,upper\r\n",
        "\r\n",
        "bootstrap_std_ci(NF, len(NF), 10000, 99)"
      ],
      "execution_count": 28,
      "outputs": [
        {
          "output_type": "stream",
          "text": [
            "[[4. 4. 4. ... 7. 7. 7.]]\n"
          ],
          "name": "stdout"
        },
        {
          "output_type": "execute_result",
          "data": {
            "text/plain": [
              "(0.5456351894810303, 4.0, 7.0)"
            ]
          },
          "metadata": {
            "tags": []
          },
          "execution_count": 28
        }
      ]
    },
    {
      "cell_type": "code",
      "metadata": {
        "id": "MkxvDZG4HC0n"
      },
      "source": [
        "# Create your own function for a permutation test here (you will need it for the lab quiz!):\n",
        "def permut_test(sample1, sample2, n_permutations):\n",
        "    \"\"\"\n",
        "    sample1: 1D array\n",
        "    sample2: 1D array (note that the size of the two arrays can be different)\n",
        "    n_permutations: number of permutations to calculate the p-value\n",
        "    \"\"\"\n",
        "  \n",
        "    Xold = np.mean(sample1)       # Mean of sample1\n",
        "    Xnew = np.mean(sample2)       # Mean of sample2\n",
        "    tobs = Xnew-Xold              # t obs\n",
        "\n",
        "    count = 0                     # Counter for tperm>tobs\n",
        "    concat = np.concatenate((sample1,sample2))    # Concatenate sample1 and sample2\n",
        "\n",
        "    for i in range(n_permutations):                 # Run n_perm. times\n",
        "        perm = np.random.permutation(concat)          # Permutation of concat\n",
        "        Pold = perm[: int(len(perm)/2)]               # Resampling of old \n",
        "        Pnew = perm[int(len(perm)/2) :]               # Resampling of new\n",
        "        tperm = np.mean(Pnew) - np.mean(Pold)         # Tperm from means of old and new\n",
        "        if (tperm > tobs):                            # If tperm>tobs\n",
        "            count += 1                                # Increment counter\n",
        "\n",
        "    pvalue = count / n_permutations     # P value formula\n",
        "    return pvalue\n"
      ],
      "execution_count": 30,
      "outputs": []
    },
    {
      "cell_type": "code",
      "metadata": {
        "colab": {
          "base_uri": "https://localhost:8080/"
        },
        "id": "v6L4kZgp3o7g",
        "outputId": "52b09310-e3f7-4390-aa4e-914f9a427e28"
      },
      "source": [
        "permut_test(CF, NF, 30000) # 100 permutations"
      ],
      "execution_count": 31,
      "outputs": [
        {
          "output_type": "execute_result",
          "data": {
            "text/plain": [
              "0.0"
            ]
          },
          "metadata": {
            "tags": []
          },
          "execution_count": 31
        }
      ]
    },
    {
      "cell_type": "markdown",
      "metadata": {
        "id": "PTn_xFylUfp7"
      },
      "source": [
        "VOTING DATA"
      ]
    },
    {
      "cell_type": "code",
      "metadata": {
        "id": "hEeCRPJFUZzW"
      },
      "source": [
        "# Reading data.\r\n",
        "# The variables below represent the percentages of democratic votes in Pennsylvania and Ohio (one value for each state).\r\n",
        "dem_share_PA = [60.08, 40.64, 36.07, 41.21, 31.04, 43.78, 44.08, 46.85, 44.71, 46.15, 63.10, 52.20, 43.18, 40.24, 39.92, 47.87, 37.77, 40.11, 49.85, 48.61, 38.62, 54.25, 34.84, 47.75, 43.82, 55.97, 58.23, 42.97, 42.38, 36.11, 37.53, 42.65, 50.96, 47.43, 56.24, 45.60, 46.39, 35.22, 48.56, 32.97, 57.88, 36.05, 37.72, 50.36, 32.12, 41.55, 54.66, 57.81, 54.58, 32.88, 54.37, 40.45, 47.61, 60.49, 43.11, 27.32, 44.03, 33.56, 37.26, 54.64, 43.12, 25.34, 49.79, 83.56, 40.09, 60.81, 49.81]\r\n",
        "dem_share_OH = [56.94, 50.46, 65.99, 45.88, 42.23, 45.26, 57.01, 53.61, 59.10, 61.48, 43.43, 44.69, 54.59, 48.36, 45.89, 48.62, 43.92, 38.23, 28.79, 63.57, 38.07, 40.18, 43.05, 41.56, 42.49, 36.06, 52.76, 46.07, 39.43, 39.26, 47.47, 27.92, 38.01, 45.45, 29.07, 28.94, 51.28, 50.10, 39.84, 36.43, 35.71, 31.47, 47.01, 40.10, 48.76, 31.56, 39.86, 45.31, 35.47, 51.38, 46.33, 48.73, 41.77, 41.32, 48.46, 53.14, 34.01, 54.74, 40.67, 38.96, 46.29, 38.25, 6.80, 31.75, 46.33, 44.90, 33.57, 38.10, 39.67, 40.47, 49.44, 37.62, 36.71, 46.73, 42.20, 53.16, 52.40, 58.36, 68.02, 38.53, 34.58, 69.64, 60.50, 53.53, 36.54, 49.58, 41.97, 38.11]"
      ],
      "execution_count": 33,
      "outputs": []
    },
    {
      "cell_type": "code",
      "metadata": {
        "colab": {
          "base_uri": "https://localhost:8080/"
        },
        "id": "AwkDXoOSVOZZ",
        "outputId": "06b58f51-2881-43e4-ac7a-1f5f46892bee"
      },
      "source": [
        "print(len(dem_share_PA))\r\n",
        "print(len(dem_share_OH))"
      ],
      "execution_count": 36,
      "outputs": [
        {
          "output_type": "stream",
          "text": [
            "67\n",
            "88\n"
          ],
          "name": "stdout"
        }
      ]
    },
    {
      "cell_type": "code",
      "metadata": {
        "colab": {
          "base_uri": "https://localhost:8080/"
        },
        "id": "AtGFuQUaVxB8",
        "outputId": "e211ee23-8d8b-4ff0-b7b1-609adb957cb1"
      },
      "source": [
        "def bootstrap_mean_ci(sample, sample_size, n_bootstraps, ci): # ci in percentage\r\n",
        "    a=np.empty((n_bootstraps, sample_size))   # Empty matrix n_boots. rows, sample_size columns\r\n",
        "    data_mean=np.empty((1, n_bootstraps)) # Empty array 1 row, n_boots. columns\r\n",
        "    for i in range (n_bootstraps):\r\n",
        "        a[i]=np.random.choice(sample, sample_size) # Filling array a with bootstraps.\r\n",
        "        data_mean[0,i]=int(np.mean(a[i]))   # Forming array with means.\r\n",
        "    \r\n",
        "    data_mean.sort()  # Sorting means within array.\r\n",
        "    NumCI=(100-ci)/2  # Percentage of removal from array of means.\r\n",
        "\r\n",
        "    lower=np.percentile(data_mean,NumCI) # Lower boundary.\r\n",
        "    upper=np.percentile(data_mean,(100-NumCI)) # Upper boundary.\r\n",
        "\r\n",
        "    data_mean=np.mean(data_mean) # Mean of array data_mean\r\n",
        "\r\n",
        "    return data_mean,lower,upper\r\n",
        "\r\n",
        "bootstrap_mean_ci(dem_share_OH, len(dem_share_OH), 25000, 90)\r\n",
        "bootstrap_mean_ci(dem_share_PA, len(dem_share_PA), 25000, 90)"
      ],
      "execution_count": 38,
      "outputs": [
        {
          "output_type": "execute_result",
          "data": {
            "text/plain": [
              "(44.95508, 43.0, 47.0)"
            ]
          },
          "metadata": {
            "tags": []
          },
          "execution_count": 38
        }
      ]
    },
    {
      "cell_type": "code",
      "metadata": {
        "colab": {
          "base_uri": "https://localhost:8080/"
        },
        "id": "hQ-qXzXnWXai",
        "outputId": "ba292e13-ba0c-4bbf-9908-50eda66d7df6"
      },
      "source": [
        "permut_test(dem_share_PA, dem_share_OH, 20000) # 100 permutations"
      ],
      "execution_count": 42,
      "outputs": [
        {
          "output_type": "execute_result",
          "data": {
            "text/plain": [
              "0.764"
            ]
          },
          "metadata": {
            "tags": []
          },
          "execution_count": 42
        }
      ]
    }
  ]
}