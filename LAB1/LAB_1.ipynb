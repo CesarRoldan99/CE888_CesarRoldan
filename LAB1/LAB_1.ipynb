{
  "nbformat": 4,
  "nbformat_minor": 0,
  "metadata": {
    "colab": {
      "name": "LAb_1.ipynb",
      "provenance": [],
      "authorship_tag": "ABX9TyOuDulueb6wL/z4f09oWz5Z",
      "include_colab_link": true
    },
    "kernelspec": {
      "name": "python3",
      "display_name": "Python 3"
    },
    "accelerator": "GPU"
  },
  "cells": [
    {
      "cell_type": "markdown",
      "metadata": {
        "id": "view-in-github",
        "colab_type": "text"
      },
      "source": [
        "<a href=\"https://colab.research.google.com/github/CesarRoldan99/CEE88_Cesar/blob/main/LAB1/LAB_1.ipynb\" target=\"_parent\"><img src=\"https://colab.research.google.com/assets/colab-badge.svg\" alt=\"Open In Colab\"/></a>"
      ]
    },
    {
      "cell_type": "markdown",
      "metadata": {
        "id": "gqIP-YjJpiTU"
      },
      "source": [
        "**Question 1**. Write a function name 'avg', which take an array of number and calculate the average."
      ]
    },
    {
      "cell_type": "code",
      "metadata": {
        "id": "rK0YMAJabu6U"
      },
      "source": [
        "import numpy as np\r\n",
        "def avg(marks):\r\n",
        "  a=sum(marks)/len((marks))\r\n",
        "  return a\r\n",
        "  \r\n",
        "mark2 = [55,88,78,90,79]\r\n"
      ],
      "execution_count": 72,
      "outputs": []
    },
    {
      "cell_type": "code",
      "metadata": {
        "id": "WSas6DQGmqu2"
      },
      "source": [
        "# Only run this cell to check your answer. If it is true then no error will be raised\r\n",
        "assert(avg(mark2) == np.mean(mark2))"
      ],
      "execution_count": 73,
      "outputs": []
    },
    {
      "cell_type": "markdown",
      "metadata": {
        "id": "SBu_fEGfpze4"
      },
      "source": [
        "**Question 2**. Write a function name 'areaCricle', which take radius as a argument and calculate the area."
      ]
    },
    {
      "cell_type": "code",
      "metadata": {
        "id": "rnLVAjRkp6Td"
      },
      "source": [
        "from math import pi # Use pi value from math package\r\n",
        "def areaCricle(radius):\r\n",
        "  area=pi*(radius**2)\r\n",
        "  return area"
      ],
      "execution_count": 74,
      "outputs": []
    },
    {
      "cell_type": "code",
      "metadata": {
        "id": "IkkN8gx0tQew"
      },
      "source": [
        "# Only run this cell to check your answer. If it is true then no error will be raised\r\n",
        "assert(round(areaCricle(10),2) == 314.16)"
      ],
      "execution_count": 75,
      "outputs": []
    },
    {
      "cell_type": "markdown",
      "metadata": {
        "id": "OFtQ8ooKquSG"
      },
      "source": [
        "**Question 3**. Write a function that takes a list of items and returns a new list with the order of items reversed, without using any inbuilt Python features that will do this for you (e.g. .reverse() or reversed(…)). As specified in the instructions, your function must not modify the contents of the original list."
      ]
    },
    {
      "cell_type": "code",
      "metadata": {
        "id": "INRAnXTGqyK5"
      },
      "source": [
        "def reversed_list(in_list):\r\n",
        "  a=in_list\r\n",
        "  return a[::-1]"
      ],
      "execution_count": 76,
      "outputs": []
    },
    {
      "cell_type": "code",
      "metadata": {
        "id": "842aVZn2teZY"
      },
      "source": [
        "# Only run this cell to check your answer. If it is true then no error will be raised\r\n",
        "assert(reversed_list([1, 2]) == [2, 1])"
      ],
      "execution_count": 77,
      "outputs": []
    },
    {
      "cell_type": "markdown",
      "metadata": {
        "id": "WnukqBuztg0z"
      },
      "source": [
        "**Question 4**. Read carefully: Write a function to perform a Bubble Sort on a list of numbers.\r\n",
        "\r\n",
        "Bubble sort is a sorting algorithm and works by iterating over the list, comparing adjacent items, and swapping them if they are out of order.\r\n",
        "\r\n",
        "Notice that after the first pass of a bubble sort, the biggest item is always moved to the end of the list. This means the next iteration does not need to check the final position of the list.\r\n",
        "\r\n",
        "In addition, you can keep track of how many items were swapped on each iteration. If this count is zero on any iteration, then the list must be fully sorted, in which case the algorithm can stop early."
      ]
    },
    {
      "cell_type": "code",
      "metadata": {
        "id": "GIP8uBFXtsVk"
      },
      "source": [
        "def bubble_sort(in_list):\r\n",
        "  a=in_list\r\n",
        "  for i in range(0,len(a)-1):\r\n",
        "    for j in range(0,len(a)-1-i):\r\n",
        "      if a[j]>a[j+1]:\r\n",
        "        a[j], a[j+1]=a[j+1], a[j]    \r\n",
        "  return a"
      ],
      "execution_count": 78,
      "outputs": []
    },
    {
      "cell_type": "code",
      "metadata": {
        "id": "pTBQC-ZzqSZ0"
      },
      "source": [
        "# Only run this cell to check your answer. If it is true then no error will be raised\r\n",
        "assert(bubble_sort([37, 42, 9, 19, 35, 4, 53, 22]) == [4, 9, 19, 22, 35, 37, 42, 53])\r\n",
        "assert(bubble_sort([5, 4, 3, 2, 1]) == [1, 2, 3, 4, 5])"
      ],
      "execution_count": 79,
      "outputs": []
    },
    {
      "cell_type": "markdown",
      "metadata": {
        "id": "Ij4QOJlNxZsK"
      },
      "source": [
        "**Question 5**. Write a function to find $n^{th}$ Fibonacci number The Fibonacci numbers are the numbers in the following integer sequence. 0, 1, 1, 2, 3, 5, 8, 13, 21, 34, 55, 89, 144, …….. In mathematical terms, the sequence $F_n$ of Fibonacci numbers is defined by the recurrence relation\r\n",
        "\r\n",
        "$F_n = F_n-1 + F_n-2$\r\n",
        "\r\n",
        "with seed values\r\n",
        "\r\n",
        "$F_0 = 0$ and $F_1 = 1$\r\n"
      ]
    },
    {
      "cell_type": "code",
      "metadata": {
        "id": "Cu069WnxxjKT"
      },
      "source": [
        "def Fibonacci(n):\r\n",
        "  a=[]\r\n",
        "  for i in range(n+10):\r\n",
        "    if i<2:\r\n",
        "      a.append(i)\r\n",
        "    else:\r\n",
        "      a.append(a[(i-1)]+a[(i-2)])\r\n",
        "  return a[n-1]"
      ],
      "execution_count": 80,
      "outputs": []
    },
    {
      "cell_type": "code",
      "metadata": {
        "id": "ypsmW_Tf5lSu"
      },
      "source": [
        "# Only run this cell to check your answer. If it is true then no error will be raised\r\n",
        "assert(Fibonacci(7) == 8)\r\n",
        "assert(Fibonacci(9) == 21)"
      ],
      "execution_count": 81,
      "outputs": []
    }
  ]
}