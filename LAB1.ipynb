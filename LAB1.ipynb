{
  "nbformat": 4,
  "nbformat_minor": 0,
  "metadata": {
    "colab": {
      "name": "LAB1.ipynb",
      "provenance": [],
      "authorship_tag": "ABX9TyNHGpMH5RTs1OzZ5vnFNbfE",
      "include_colab_link": true
    },
    "kernelspec": {
      "name": "python3",
      "display_name": "Python 3"
    }
  },
  "cells": [
    {
      "cell_type": "markdown",
      "metadata": {
        "id": "view-in-github",
        "colab_type": "text"
      },
      "source": [
        "<a href=\"https://colab.research.google.com/github/CesarRoldan99/CEE88_Cesar/blob/main/LAB1.ipynb\" target=\"_parent\"><img src=\"https://colab.research.google.com/assets/colab-badge.svg\" alt=\"Open In Colab\"/></a>"
      ]
    },
    {
      "cell_type": "markdown",
      "metadata": {
        "id": "gqIP-YjJpiTU"
      },
      "source": [
        "**Question 1**. Write a function name 'avg', which take an array of number and calculate the average."
      ]
    },
    {
      "cell_type": "code",
      "metadata": {
        "id": "rK0YMAJabu6U"
      },
      "source": [
        "import numpy as np\r\n",
        "def avg(marks):\r\n",
        "  add=0\r\n",
        "  count=0\r\n",
        "  for num in range(len(marks)):\r\n",
        "    add+=marks[num]\r\n",
        "    count+=1\r\n",
        "  a=add/count\r\n",
        "  print(a)\r\n",
        "  \r\n",
        "\r\n",
        "mark2 = [55,88,78,90,79]\r\n"
      ],
      "execution_count": 39,
      "outputs": []
    },
    {
      "cell_type": "code",
      "metadata": {
        "colab": {
          "base_uri": "https://localhost:8080/",
          "height": 178
        },
        "id": "WSas6DQGmqu2",
        "outputId": "3ba5a2a8-b3f6-4ec2-c507-757389e461f7"
      },
      "source": [
        "# Only run this cell to check your answer. If it is true then no error will be raised\r\n",
        "assert(avg(mark2) == np.mean(mark2))"
      ],
      "execution_count": 42,
      "outputs": [
        {
          "output_type": "stream",
          "text": [
            "78.0\n"
          ],
          "name": "stdout"
        },
        {
          "output_type": "error",
          "ename": "AssertionError",
          "evalue": "ignored",
          "traceback": [
            "\u001b[0;31m---------------------------------------------------------------------------\u001b[0m",
            "\u001b[0;31mAssertionError\u001b[0m                            Traceback (most recent call last)",
            "\u001b[0;32m<ipython-input-42-339c2a22efd5>\u001b[0m in \u001b[0;36m<module>\u001b[0;34m()\u001b[0m\n\u001b[0;32m----> 1\u001b[0;31m \u001b[0;32massert\u001b[0m\u001b[0;34m(\u001b[0m\u001b[0mavg\u001b[0m\u001b[0;34m(\u001b[0m\u001b[0mmark2\u001b[0m\u001b[0;34m)\u001b[0m \u001b[0;34m==\u001b[0m \u001b[0mnp\u001b[0m\u001b[0;34m.\u001b[0m\u001b[0mmean\u001b[0m\u001b[0;34m(\u001b[0m\u001b[0mmark2\u001b[0m\u001b[0;34m)\u001b[0m\u001b[0;34m)\u001b[0m\u001b[0;34m\u001b[0m\u001b[0;34m\u001b[0m\u001b[0m\n\u001b[0m",
            "\u001b[0;31mAssertionError\u001b[0m: "
          ]
        }
      ]
    },
    {
      "cell_type": "markdown",
      "metadata": {
        "id": "SBu_fEGfpze4"
      },
      "source": [
        "**Question 2**. Write a function name 'areaCricle', which take radius as a argument and calculate the area."
      ]
    },
    {
      "cell_type": "code",
      "metadata": {
        "colab": {
          "base_uri": "https://localhost:8080/"
        },
        "id": "rnLVAjRkp6Td",
        "outputId": "8ce5bb7b-bc9a-4bf1-df9b-1322e792c6ed"
      },
      "source": [
        "from math import pi # Use pi value from math package\r\n",
        "def areaCricle(radius):\r\n",
        "    print(pi*(radius**2))\r\n",
        "\r\n",
        "areaCricle(10)"
      ],
      "execution_count": 47,
      "outputs": [
        {
          "output_type": "stream",
          "text": [
            "314.1592653589793\n"
          ],
          "name": "stdout"
        }
      ]
    },
    {
      "cell_type": "code",
      "metadata": {
        "id": "IkkN8gx0tQew"
      },
      "source": [
        "# Only run this cell to check your answer. If it is true then no error will be raised\r\n",
        "assert(round(areaCricle(10),2) == 314.16)"
      ],
      "execution_count": null,
      "outputs": []
    },
    {
      "cell_type": "markdown",
      "metadata": {
        "id": "OFtQ8ooKquSG"
      },
      "source": [
        "**Question 3**. Write a function that takes a list of items and returns a new list with the order of items reversed, without using any inbuilt Python features that will do this for you (e.g. .reverse() or reversed(…)). As specified in the instructions, your function must not modify the contents of the original list."
      ]
    },
    {
      "cell_type": "code",
      "metadata": {
        "colab": {
          "base_uri": "https://localhost:8080/"
        },
        "id": "INRAnXTGqyK5",
        "outputId": "c59a7602-3089-437f-c0c4-0215528afc04"
      },
      "source": [
        "def reversed_list(in_list):\r\n",
        "  a=[]\r\n",
        "  for i in range(len(in_list)):\r\n",
        "    a.append(len(in_list)-i)\r\n",
        "  print(a)\r\n",
        "    \r\n",
        "reversed_list([1,2])"
      ],
      "execution_count": 63,
      "outputs": [
        {
          "output_type": "stream",
          "text": [
            "[2, 1]\n"
          ],
          "name": "stdout"
        }
      ]
    },
    {
      "cell_type": "code",
      "metadata": {
        "id": "842aVZn2teZY"
      },
      "source": [
        "# Only run this cell to check your answer. If it is true then no error will be raised\r\n",
        "assert(reversed_list([1, 2]) == [2, 1])"
      ],
      "execution_count": null,
      "outputs": []
    },
    {
      "cell_type": "markdown",
      "metadata": {
        "id": "WnukqBuztg0z"
      },
      "source": [
        "**Question 4**. Read carefully: Write a function to perform a Bubble Sort on a list of numbers.\r\n",
        "\r\n",
        "Bubble sort is a sorting algorithm and works by iterating over the list, comparing adjacent items, and swapping them if they are out of order.\r\n",
        "\r\n",
        "Notice that after the first pass of a bubble sort, the biggest item is always moved to the end of the list. This means the next iteration does not need to check the final position of the list.\r\n",
        "\r\n",
        "In addition, you can keep track of how many items were swapped on each iteration. If this count is zero on any iteration, then the list must be fully sorted, in which case the algorithm can stop early."
      ]
    },
    {
      "cell_type": "code",
      "metadata": {
        "colab": {
          "base_uri": "https://localhost:8080/"
        },
        "id": "GIP8uBFXtsVk",
        "outputId": "2214b3a9-2e30-4581-bc5e-cf3aacb578e6"
      },
      "source": [
        "def bubble_sort(in_list):\r\n",
        "  temp=0\r\n",
        "  for i in range(1,len(in_list)):\r\n",
        "    for j in range(0,len(in_list)-1):\r\n",
        "      if in_list[j]>in_list[j+1]:\r\n",
        "        temp=in_list[j+1]\r\n",
        "        in_list[j+1]=in_list[j]\r\n",
        "        in_list[j]=temp\r\n",
        "  \r\n",
        "  print(in_list)\r\n",
        "\r\n",
        "bubble_sort([37, 42, 9, 19, 35, 4, 53, 22])\r\n",
        "bubble_sort([5, 4, 3, 2, 1])\r\n",
        "         "
      ],
      "execution_count": 67,
      "outputs": [
        {
          "output_type": "stream",
          "text": [
            "[4, 9, 19, 22, 35, 37, 42, 53]\n",
            "[1, 2, 3, 4, 5]\n"
          ],
          "name": "stdout"
        }
      ]
    },
    {
      "cell_type": "markdown",
      "metadata": {
        "id": "Ij4QOJlNxZsK"
      },
      "source": [
        "**Question 5**. Write a function to find $n^{th}$ Fibonacci number The Fibonacci numbers are the numbers in the following integer sequence. 0, 1, 1, 2, 3, 5, 8, 13, 21, 34, 55, 89, 144, …….. In mathematical terms, the sequence $F_n$ of Fibonacci numbers is defined by the recurrence relation\r\n",
        "\r\n",
        "$F_n = F_n-1 + F_n-2$\r\n",
        "\r\n",
        "with seed values\r\n",
        "\r\n",
        "$F_0 = 0$ and $F_1 = 1$\r\n"
      ]
    },
    {
      "cell_type": "code",
      "metadata": {
        "colab": {
          "base_uri": "https://localhost:8080/"
        },
        "id": "Cu069WnxxjKT",
        "outputId": "abf15f78-c144-4e52-abca-5ea0175c4299"
      },
      "source": [
        "def Fibonacci(n):\r\n",
        "  a=[]\r\n",
        "  for i in range(n+10):\r\n",
        "    if i<2:\r\n",
        "      a.append(i)\r\n",
        "    else:\r\n",
        "      a.append(a[(i-1)]+a[(i-2)])\r\n",
        "  print(a)\r\n",
        "  print(a[n])\r\n",
        "\r\n",
        "Fibonacci(7)\r\n",
        "Fibonacci(9)\r\n"
      ],
      "execution_count": 108,
      "outputs": [
        {
          "output_type": "stream",
          "text": [
            "[0, 1, 1, 2, 3, 5, 8, 13, 21, 34, 55, 89, 144, 233, 377, 610, 987]\n",
            "13\n",
            "[0, 1, 1, 2, 3, 5, 8, 13, 21, 34, 55, 89, 144, 233, 377, 610, 987, 1597, 2584]\n",
            "34\n"
          ],
          "name": "stdout"
        }
      ]
    },
    {
      "cell_type": "code",
      "metadata": {
        "colab": {
          "base_uri": "https://localhost:8080/",
          "height": 229
        },
        "id": "ypsmW_Tf5lSu",
        "outputId": "d1f01d70-65b1-4284-bf0d-a27ff38dd59e"
      },
      "source": [
        "# Only run this cell to check your answer. If it is true then no error will be raised\r\n",
        "assert(Fibonacci(7) == 13)\r\n",
        "assert(Fibonacci(9) == 21)"
      ],
      "execution_count": 106,
      "outputs": [
        {
          "output_type": "stream",
          "text": [
            "13\n"
          ],
          "name": "stdout"
        },
        {
          "output_type": "error",
          "ename": "AssertionError",
          "evalue": "ignored",
          "traceback": [
            "\u001b[0;31m---------------------------------------------------------------------------\u001b[0m",
            "\u001b[0;31mAssertionError\u001b[0m                            Traceback (most recent call last)",
            "\u001b[0;32m<ipython-input-106-cee17924fb48>\u001b[0m in \u001b[0;36m<module>\u001b[0;34m()\u001b[0m\n\u001b[1;32m      1\u001b[0m \u001b[0;31m# Only run this cell to check your answer. If it is true then no error will be raised\u001b[0m\u001b[0;34m\u001b[0m\u001b[0;34m\u001b[0m\u001b[0;34m\u001b[0m\u001b[0m\n\u001b[0;32m----> 2\u001b[0;31m \u001b[0;32massert\u001b[0m\u001b[0;34m(\u001b[0m\u001b[0mFibonacci\u001b[0m\u001b[0;34m(\u001b[0m\u001b[0;36m7\u001b[0m\u001b[0;34m)\u001b[0m \u001b[0;34m==\u001b[0m \u001b[0;36m13\u001b[0m\u001b[0;34m)\u001b[0m\u001b[0;34m\u001b[0m\u001b[0;34m\u001b[0m\u001b[0m\n\u001b[0m\u001b[1;32m      3\u001b[0m \u001b[0;32massert\u001b[0m\u001b[0;34m(\u001b[0m\u001b[0mFibonacci\u001b[0m\u001b[0;34m(\u001b[0m\u001b[0;36m9\u001b[0m\u001b[0;34m)\u001b[0m \u001b[0;34m==\u001b[0m \u001b[0;36m21\u001b[0m\u001b[0;34m)\u001b[0m\u001b[0;34m\u001b[0m\u001b[0;34m\u001b[0m\u001b[0m\n",
            "\u001b[0;31mAssertionError\u001b[0m: "
          ]
        }
      ]
    }
  ]
}