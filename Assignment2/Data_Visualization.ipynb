{
  "nbformat": 4,
  "nbformat_minor": 0,
  "metadata": {
    "colab": {
      "name": "Data_Visualization.ipynb",
      "provenance": [],
      "authorship_tag": "ABX9TyPLXN4rlvcenyQ3bz1WkbNT",
      "include_colab_link": true
    },
    "kernelspec": {
      "name": "python3",
      "display_name": "Python 3"
    },
    "language_info": {
      "name": "python"
    }
  },
  "cells": [
    {
      "cell_type": "markdown",
      "metadata": {
        "id": "view-in-github",
        "colab_type": "text"
      },
      "source": [
        "<a href=\"https://colab.research.google.com/github/CesarRoldan99/CE888_CesarRoldan/blob/main/Assignment2/Data_Visualization.ipynb\" target=\"_parent\"><img src=\"https://colab.research.google.com/assets/colab-badge.svg\" alt=\"Open In Colab\"/></a>"
      ]
    },
    {
      "cell_type": "markdown",
      "metadata": {
        "id": "NPXbV-cPcSVu"
      },
      "source": [
        "# Second Assignment - Data Visualization"
      ]
    },
    {
      "cell_type": "markdown",
      "metadata": {
        "id": "kYZMJcc9cZ8y"
      },
      "source": [
        "All the following cells correspond to the process of loading, manipulating, and visualization of the original and preprocessed data."
      ]
    },
    {
      "cell_type": "markdown",
      "metadata": {
        "id": "sceeEdzGctA5"
      },
      "source": [
        "*Keep the Library secion intact, as they are important for the proper function of the entire code. The requirements are in a README.txt file in the repository.*"
      ]
    },
    {
      "cell_type": "code",
      "metadata": {
        "id": "Rz1F7-igbcgh"
      },
      "source": [
        "# Libraries.\n",
        "import matplotlib.pyplot as plt\n",
        "import tensorflow as tf\n",
        "from tensorflow.keras.models import Sequential\n",
        "from tensorflow.keras import layers"
      ],
      "execution_count": null,
      "outputs": []
    },
    {
      "cell_type": "markdown",
      "metadata": {
        "id": "D2fwtY21cu35"
      },
      "source": [
        "*Training and test sets of images were uploaded to Google's drive. Therefore, if you want to make experiments, both train and test images should be in drive. Upload the images, right-click over the folder, copy and paste the file's path.*"
      ]
    },
    {
      "cell_type": "code",
      "metadata": {
        "id": "mCuI1HTpbpAW"
      },
      "source": [
        "# Directories of data.\n",
        "d_training = \"/content/drive/MyDrive/FLAME_DATASET/Training_R_V2\"\n",
        "d_test = \"/content/drive/MyDrive/FLAME_DATASET/Test_R\""
      ],
      "execution_count": null,
      "outputs": []
    },
    {
      "cell_type": "markdown",
      "metadata": {
        "id": "9heIHPm6cxlw"
      },
      "source": [
        "*This section's purpose is to load the training data.*"
      ]
    },
    {
      "cell_type": "code",
      "metadata": {
        "id": "S4douKUzbuTb"
      },
      "source": [
        "# Image loading into train, validation, and test.\n",
        "train = tf.keras.preprocessing.image_dataset_from_directory(d_training,\n",
        "                                                            image_size=(254, 254),\n",
        "                                                            batch_size=32,\n",
        "                                                            labels=\"inferred\",\n",
        "                                                            shuffle=True,\n",
        "                                                            seed=100,\n",
        "                                                            validation_split=0.2,\n",
        "                                                            subset=\"training\")\n"
      ],
      "execution_count": null,
      "outputs": []
    },
    {
      "cell_type": "markdown",
      "metadata": {
        "id": "4oaKbf-Vc00_"
      },
      "source": [
        "*This section is just for printing the names of the classes.*"
      ]
    },
    {
      "cell_type": "code",
      "metadata": {
        "id": "TEMSRxvabv26"
      },
      "source": [
        "# Name of the classes.\n",
        "class_names = train.class_names\n",
        "print(class_names)"
      ],
      "execution_count": null,
      "outputs": []
    },
    {
      "cell_type": "markdown",
      "metadata": {
        "id": "3b3kMNkGdPBb"
      },
      "source": [
        "*This section prints original images from the training set.*"
      ]
    },
    {
      "cell_type": "code",
      "metadata": {
        "id": "TqWRNbpdbwos"
      },
      "source": [
        "# Data Visualization.\n",
        "plt.figure(figsize=(10, 10))\n",
        "for image, label in train.take(1):\n",
        "    for i in range(4):\n",
        "        ax = plt.subplot(2, 2, i + 1)\n",
        "        plt.imshow(image[i].numpy().astype(\"uint8\"))\n",
        "        plt.title(class_names[label[i]])\n",
        "        plt.axis(\"off\")\n",
        "plt.show()"
      ],
      "execution_count": null,
      "outputs": []
    },
    {
      "cell_type": "markdown",
      "metadata": {
        "id": "obmuDm8zdazA"
      },
      "source": [
        "*This section corresponds to the preprocessing of the data. You can notice that the rescaling (normalizing) layer is missing, that layer is useful when training and testing the data. It improves loading times. In this case, as there is no need to load, train and test a model, that layer is skipped.*"
      ]
    },
    {
      "cell_type": "code",
      "metadata": {
        "id": "NrYOIZkfby5K"
      },
      "source": [
        "# Preprocessing Sequence\n",
        "data_augmentation = Sequential([\n",
        "    layers.experimental.preprocessing.Resizing(224, 224),\n",
        "    layers.experimental.preprocessing.RandomFlip(mode=\"horizontal_and_vertical\"),\n",
        "    layers.experimental.preprocessing.RandomRotation(0.1),\n",
        "])"
      ],
      "execution_count": null,
      "outputs": []
    },
    {
      "cell_type": "markdown",
      "metadata": {
        "id": "PeFRcwC9dYVr"
      },
      "source": [
        "*This section prints preprocessed images from the training set.*"
      ]
    },
    {
      "cell_type": "code",
      "metadata": {
        "id": "qpCCltYVb0el"
      },
      "source": [
        "# Augmented Data Visualization.\n",
        "plt.figure(figsize=(10, 10))\n",
        "for images, labels in train.take(1):\n",
        "  for i in range(4):\n",
        "    augmented_images = data_augmentation(images)\n",
        "    ax = plt.subplot(2, 2, i + 1)\n",
        "    plt.imshow(augmented_images[i].numpy().astype(\"uint8\"))\n",
        "    plt.title(class_names[labels[i]])\n",
        "    plt.axis(\"off\")\n",
        "plt.show()"
      ],
      "execution_count": null,
      "outputs": []
    }
  ]
}